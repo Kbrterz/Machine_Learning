{
 "cells": [
  {
   "cell_type": "code",
   "execution_count": 1,
   "id": "c2c22f05",
   "metadata": {
    "execution": {
     "iopub.execute_input": "2025-03-26T15:53:47.576941Z",
     "iopub.status.busy": "2025-03-26T15:53:47.576400Z",
     "iopub.status.idle": "2025-03-26T15:53:51.251807Z",
     "shell.execute_reply": "2025-03-26T15:53:51.250669Z"
    },
    "papermill": {
     "duration": 3.694794,
     "end_time": "2025-03-26T15:53:51.253842",
     "exception": false,
     "start_time": "2025-03-26T15:53:47.559048",
     "status": "completed"
    },
    "tags": []
   },
   "outputs": [],
   "source": [
    "from yellowbrick.cluster import KElbowVisualizer\n",
    "import numpy as np\n",
    "import pandas as pd\n",
    "import seaborn as sns\n",
    "import random\n",
    "import matplotlib.pyplot as plt\n",
    "from sklearn.cluster import KMeans, AgglomerativeClustering\n",
    "from sklearn.preprocessing import MinMaxScaler\n",
    "from scipy.cluster.hierarchy import linkage\n",
    "from scipy.cluster.hierarchy import dendrogram\n",
    "from sklearn.preprocessing import StandardScaler\n",
    "from sklearn.decomposition import PCA\n",
    "from sklearn.model_selection import cross_val_score, GridSearchCV\n",
    "from sklearn.preprocessing import LabelEncoder\n",
    "import datetime as dt\n",
    "\n",
    "import warnings\n",
    "warnings.simplefilter(action=\"ignore\")"
   ]
  },
  {
   "cell_type": "markdown",
   "id": "596e96e7",
   "metadata": {
    "papermill": {
     "duration": 0.010847,
     "end_time": "2025-03-26T15:53:51.275896",
     "exception": false,
     "start_time": "2025-03-26T15:53:51.265049",
     "status": "completed"
    },
    "tags": []
   },
   "source": [
    "# Loading the Dataset"
   ]
  },
  {
   "cell_type": "code",
   "execution_count": 2,
   "id": "60482497",
   "metadata": {
    "execution": {
     "iopub.execute_input": "2025-03-26T15:53:51.299598Z",
     "iopub.status.busy": "2025-03-26T15:53:51.299035Z",
     "iopub.status.idle": "2025-03-26T15:53:51.411534Z",
     "shell.execute_reply": "2025-03-26T15:53:51.410510Z"
    },
    "papermill": {
     "duration": 0.126392,
     "end_time": "2025-03-26T15:53:51.413605",
     "exception": false,
     "start_time": "2025-03-26T15:53:51.287213",
     "status": "completed"
    },
    "tags": []
   },
   "outputs": [],
   "source": [
    "df_ = pd.read_csv(\"/kaggle/input/flo-data/FLO.csv\")\n",
    "df = df_.copy()"
   ]
  },
  {
   "cell_type": "markdown",
   "id": "a7d3ba5a",
   "metadata": {
    "papermill": {
     "duration": 0.010298,
     "end_time": "2025-03-26T15:53:51.434766",
     "exception": false,
     "start_time": "2025-03-26T15:53:51.424468",
     "status": "completed"
    },
    "tags": []
   },
   "source": [
    "# Adjusting Row Column Settings"
   ]
  },
  {
   "cell_type": "code",
   "execution_count": 3,
   "id": "c3893d22",
   "metadata": {
    "execution": {
     "iopub.execute_input": "2025-03-26T15:53:51.457404Z",
     "iopub.status.busy": "2025-03-26T15:53:51.457039Z",
     "iopub.status.idle": "2025-03-26T15:53:51.462073Z",
     "shell.execute_reply": "2025-03-26T15:53:51.460950Z"
    },
    "papermill": {
     "duration": 0.018592,
     "end_time": "2025-03-26T15:53:51.463974",
     "exception": false,
     "start_time": "2025-03-26T15:53:51.445382",
     "status": "completed"
    },
    "tags": []
   },
   "outputs": [],
   "source": [
    "pd.set_option('display.max_columns', 500)\n",
    "pd.set_option('display.width', None)\n",
    "pd.set_option('display.max_rows', 20)\n",
    "pd.set_option('display.float_format', lambda x: '%.3f' % x)"
   ]
  },
  {
   "cell_type": "markdown",
   "id": "ce9d015f",
   "metadata": {
    "papermill": {
     "duration": 0.010195,
     "end_time": "2025-03-26T15:53:51.485242",
     "exception": false,
     "start_time": "2025-03-26T15:53:51.475047",
     "status": "completed"
    },
    "tags": []
   },
   "source": [
    "#  Exploratory Data Analysis"
   ]
  },
  {
   "cell_type": "code",
   "execution_count": 4,
   "id": "e70da307",
   "metadata": {
    "execution": {
     "iopub.execute_input": "2025-03-26T15:53:51.507280Z",
     "iopub.status.busy": "2025-03-26T15:53:51.506954Z",
     "iopub.status.idle": "2025-03-26T15:53:51.605236Z",
     "shell.execute_reply": "2025-03-26T15:53:51.603879Z"
    },
    "papermill": {
     "duration": 0.111937,
     "end_time": "2025-03-26T15:53:51.607643",
     "exception": false,
     "start_time": "2025-03-26T15:53:51.495706",
     "status": "completed"
    },
    "tags": []
   },
   "outputs": [
    {
     "name": "stdout",
     "output_type": "stream",
     "text": [
      "**********head**********\n",
      "                                           master_id order_channel  \\\n",
      "0               cc294636-19f0-11eb-8d74-000d3a38a36f   Android App   \n",
      "1  f431bd5a-ab7b-11e9-a2fc-000d3a38a36f,Android A...           NaN   \n",
      "2  69b69676-1a40-11ea-941b-000d3a38a36f,Android A...           NaN   \n",
      "3  1854e56c-491f-11eb-806e-000d3a38a36f,Android A...           NaN   \n",
      "4               d6ea1074-f1f5-11e9-9346-000d3a38a36f       Desktop   \n",
      "\n",
      "  last_order_channel first_order_date last_order_date last_order_date_online  \\\n",
      "0            Offline       2020-10-30      2021-02-26             2021-02-21   \n",
      "1                NaN              NaN             NaN                    NaN   \n",
      "2                NaN              NaN             NaN                    NaN   \n",
      "3                NaN              NaN             NaN                    NaN   \n",
      "4            Desktop       2019-08-03      2021-03-07             2021-03-07   \n",
      "\n",
      "  last_order_date_offline  order_num_total_ever_online  \\\n",
      "0              2021-02-26                        4.000   \n",
      "1                     NaN                          NaN   \n",
      "2                     NaN                          NaN   \n",
      "3                     NaN                          NaN   \n",
      "4              2019-08-03                        1.000   \n",
      "\n",
      "   order_num_total_ever_offline  customer_value_total_ever_offline  \\\n",
      "0                         1.000                            139.990   \n",
      "1                           NaN                                NaN   \n",
      "2                           NaN                                NaN   \n",
      "3                           NaN                                NaN   \n",
      "4                         1.000                             49.990   \n",
      "\n",
      "   customer_value_total_ever_online interested_in_categories_12  \n",
      "0                           799.380                     [KADIN]  \n",
      "1                               NaN                         NaN  \n",
      "2                               NaN                         NaN  \n",
      "3                               NaN                         NaN  \n",
      "4                           159.990                 [AKTIFSPOR]  \n",
      "**********isna**********\n",
      "master_id                               0\n",
      "order_channel                        8700\n",
      "last_order_channel                   8700\n",
      "first_order_date                     8700\n",
      "last_order_date                      8700\n",
      "last_order_date_online               8700\n",
      "last_order_date_offline              8700\n",
      "order_num_total_ever_online          8700\n",
      "order_num_total_ever_offline         8700\n",
      "customer_value_total_ever_offline    8700\n",
      "customer_value_total_ever_online     8700\n",
      "interested_in_categories_12          8700\n",
      "dtype: int64\n",
      "**********shape*********\n",
      "(19945, 12)\n",
      "*********info***********\n",
      "<class 'pandas.core.frame.DataFrame'>\n",
      "RangeIndex: 19945 entries, 0 to 19944\n",
      "Data columns (total 12 columns):\n",
      " #   Column                             Non-Null Count  Dtype  \n",
      "---  ------                             --------------  -----  \n",
      " 0   master_id                          19945 non-null  object \n",
      " 1   order_channel                      11245 non-null  object \n",
      " 2   last_order_channel                 11245 non-null  object \n",
      " 3   first_order_date                   11245 non-null  object \n",
      " 4   last_order_date                    11245 non-null  object \n",
      " 5   last_order_date_online             11245 non-null  object \n",
      " 6   last_order_date_offline            11245 non-null  object \n",
      " 7   order_num_total_ever_online        11245 non-null  float64\n",
      " 8   order_num_total_ever_offline       11245 non-null  float64\n",
      " 9   customer_value_total_ever_offline  11245 non-null  float64\n",
      " 10  customer_value_total_ever_online   11245 non-null  float64\n",
      " 11  interested_in_categories_12        11245 non-null  object \n",
      "dtypes: float64(4), object(8)\n",
      "memory usage: 1.8+ MB\n",
      "None\n",
      "*********describe*******\n",
      "                                      count    mean     std    min     25%  \\\n",
      "order_num_total_ever_online       11245.000   2.358   2.671  1.000   1.000   \n",
      "order_num_total_ever_offline      11245.000   1.661   1.629  1.000   1.000   \n",
      "customer_value_total_ever_offline 11245.000 216.776 274.529 10.000  90.490   \n",
      "customer_value_total_ever_online  11245.000 360.535 431.211 14.990 124.940   \n",
      "\n",
      "                                      50%     75%       max  \n",
      "order_num_total_ever_online         1.000   3.000    49.000  \n",
      "order_num_total_ever_offline        1.000   2.000    87.000  \n",
      "customer_value_total_ever_offline 155.860 277.970 18119.140  \n",
      "customer_value_total_ever_online  229.900 431.930  8667.730  \n",
      "*********nuniq*******\n",
      "master_id                            19945\n",
      "order_channel                            4\n",
      "last_order_channel                       5\n",
      "first_order_date                      2062\n",
      "last_order_date                        366\n",
      "last_order_date_online                1514\n",
      "last_order_date_offline                727\n",
      "order_num_total_ever_online             35\n",
      "order_num_total_ever_offline            21\n",
      "customer_value_total_ever_offline     3071\n",
      "customer_value_total_ever_online      6104\n",
      "interested_in_categories_12              6\n",
      "dtype: int64\n"
     ]
    }
   ],
   "source": [
    "def data_review(dataframe):\n",
    "    print(\"**********head**********\")\n",
    "    print(dataframe.head())\n",
    "    print(\"**********isna**********\")\n",
    "    print(dataframe.isnull().sum())\n",
    "    print(\"**********shape*********\")\n",
    "    print(dataframe.shape)\n",
    "    print(\"*********info***********\")\n",
    "    print(dataframe.info())\n",
    "    print(\"*********describe*******\")\n",
    "    print(dataframe.describe().T)\n",
    "    print(\"*********nuniq*******\")\n",
    "    print(dataframe.nunique())\n",
    "\n",
    "data_review(df)"
   ]
  },
  {
   "cell_type": "code",
   "execution_count": 5,
   "id": "16a6afcb",
   "metadata": {
    "execution": {
     "iopub.execute_input": "2025-03-26T15:53:51.631602Z",
     "iopub.status.busy": "2025-03-26T15:53:51.631219Z",
     "iopub.status.idle": "2025-03-26T15:53:51.637153Z",
     "shell.execute_reply": "2025-03-26T15:53:51.636079Z"
    },
    "papermill": {
     "duration": 0.01937,
     "end_time": "2025-03-26T15:53:51.638858",
     "exception": false,
     "start_time": "2025-03-26T15:53:51.619488",
     "status": "completed"
    },
    "tags": []
   },
   "outputs": [],
   "source": [
    "def check_df(dataframe, head=5):\n",
    "    print(\"##################### Shape #####################\")\n",
    "    print(dataframe.shape)\n",
    "    print(\"##################### Types #####################\")\n",
    "    print(dataframe.dtypes)\n",
    "    print(\"##################### Head #####################\")\n",
    "    print(dataframe.head(head))\n",
    "    print(\"##################### Tail #####################\")\n",
    "    print(dataframe.tail(head))\n",
    "    print(\"##################### NA #####################\")\n",
    "    print(dataframe.isnull().sum())\n",
    "    print(\"##################### Quantiles #####################\")\n",
    "    numeric_df = df.select_dtypes(include='number')\n",
    "    # quantile() işlemi\n",
    "    quantiles = numeric_df.describe([0, 0.05, 0.25, 0.50, 0.75, 0.90, 0.95, 0.99, 1]).T\n",
    "    print(quantiles)"
   ]
  },
  {
   "cell_type": "code",
   "execution_count": 6,
   "id": "3fb8b1f3",
   "metadata": {
    "execution": {
     "iopub.execute_input": "2025-03-26T15:53:51.662248Z",
     "iopub.status.busy": "2025-03-26T15:53:51.661828Z",
     "iopub.status.idle": "2025-03-26T15:53:51.705150Z",
     "shell.execute_reply": "2025-03-26T15:53:51.703939Z"
    },
    "papermill": {
     "duration": 0.057508,
     "end_time": "2025-03-26T15:53:51.707198",
     "exception": false,
     "start_time": "2025-03-26T15:53:51.649690",
     "status": "completed"
    },
    "tags": []
   },
   "outputs": [
    {
     "name": "stdout",
     "output_type": "stream",
     "text": [
      "##################### Shape #####################\n",
      "(19945, 12)\n",
      "##################### Types #####################\n",
      "master_id                             object\n",
      "order_channel                         object\n",
      "last_order_channel                    object\n",
      "first_order_date                      object\n",
      "last_order_date                       object\n",
      "last_order_date_online                object\n",
      "last_order_date_offline               object\n",
      "order_num_total_ever_online          float64\n",
      "order_num_total_ever_offline         float64\n",
      "customer_value_total_ever_offline    float64\n",
      "customer_value_total_ever_online     float64\n",
      "interested_in_categories_12           object\n",
      "dtype: object\n",
      "##################### Head #####################\n",
      "                                           master_id order_channel  \\\n",
      "0               cc294636-19f0-11eb-8d74-000d3a38a36f   Android App   \n",
      "1  f431bd5a-ab7b-11e9-a2fc-000d3a38a36f,Android A...           NaN   \n",
      "2  69b69676-1a40-11ea-941b-000d3a38a36f,Android A...           NaN   \n",
      "3  1854e56c-491f-11eb-806e-000d3a38a36f,Android A...           NaN   \n",
      "4               d6ea1074-f1f5-11e9-9346-000d3a38a36f       Desktop   \n",
      "\n",
      "  last_order_channel first_order_date last_order_date last_order_date_online  \\\n",
      "0            Offline       2020-10-30      2021-02-26             2021-02-21   \n",
      "1                NaN              NaN             NaN                    NaN   \n",
      "2                NaN              NaN             NaN                    NaN   \n",
      "3                NaN              NaN             NaN                    NaN   \n",
      "4            Desktop       2019-08-03      2021-03-07             2021-03-07   \n",
      "\n",
      "  last_order_date_offline  order_num_total_ever_online  \\\n",
      "0              2021-02-26                        4.000   \n",
      "1                     NaN                          NaN   \n",
      "2                     NaN                          NaN   \n",
      "3                     NaN                          NaN   \n",
      "4              2019-08-03                        1.000   \n",
      "\n",
      "   order_num_total_ever_offline  customer_value_total_ever_offline  \\\n",
      "0                         1.000                            139.990   \n",
      "1                           NaN                                NaN   \n",
      "2                           NaN                                NaN   \n",
      "3                           NaN                                NaN   \n",
      "4                         1.000                             49.990   \n",
      "\n",
      "   customer_value_total_ever_online interested_in_categories_12  \n",
      "0                           799.380                     [KADIN]  \n",
      "1                               NaN                         NaN  \n",
      "2                               NaN                         NaN  \n",
      "3                               NaN                         NaN  \n",
      "4                           159.990                 [AKTIFSPOR]  \n",
      "##################### Tail #####################\n",
      "                                               master_id order_channel  \\\n",
      "19940  727e2b6e-ddd4-11e9-a848-000d3a38a36f,Android A...           NaN   \n",
      "19941               25cd53d4-61bf-11ea-8dd8-000d3a38a36f       Desktop   \n",
      "19942               8aea4c2a-d6fc-11e9-93bc-000d3a38a36f       Ios App   \n",
      "19943  e50bb46c-ff30-11e9-a5e8-000d3a38a36f,Android A...           NaN   \n",
      "19944  740998d2-b1f7-11e9-89fa-000d3a38a36f,Android A...           NaN   \n",
      "\n",
      "      last_order_channel first_order_date last_order_date  \\\n",
      "19940                NaN              NaN             NaN   \n",
      "19941            Desktop       2020-03-01      2020-12-22   \n",
      "19942            Ios App       2019-09-11      2021-05-24   \n",
      "19943                NaN              NaN             NaN   \n",
      "19944                NaN              NaN             NaN   \n",
      "\n",
      "      last_order_date_online last_order_date_offline  \\\n",
      "19940                    NaN                     NaN   \n",
      "19941             2020-12-22              2020-03-01   \n",
      "19942             2021-05-24              2019-09-11   \n",
      "19943                    NaN                     NaN   \n",
      "19944                    NaN                     NaN   \n",
      "\n",
      "       order_num_total_ever_online  order_num_total_ever_offline  \\\n",
      "19940                          NaN                           NaN   \n",
      "19941                        1.000                         1.000   \n",
      "19942                        2.000                         1.000   \n",
      "19943                          NaN                           NaN   \n",
      "19944                          NaN                           NaN   \n",
      "\n",
      "       customer_value_total_ever_offline  customer_value_total_ever_online  \\\n",
      "19940                                NaN                               NaN   \n",
      "19941                            150.480                           239.990   \n",
      "19942                            139.980                           492.960   \n",
      "19943                                NaN                               NaN   \n",
      "19944                                NaN                               NaN   \n",
      "\n",
      "      interested_in_categories_12  \n",
      "19940                         NaN  \n",
      "19941                 [AKTIFSPOR]  \n",
      "19942                 [AKTIFSPOR]  \n",
      "19943                         NaN  \n",
      "19944                         NaN  \n",
      "##################### NA #####################\n",
      "master_id                               0\n",
      "order_channel                        8700\n",
      "last_order_channel                   8700\n",
      "first_order_date                     8700\n",
      "last_order_date                      8700\n",
      "last_order_date_online               8700\n",
      "last_order_date_offline              8700\n",
      "order_num_total_ever_online          8700\n",
      "order_num_total_ever_offline         8700\n",
      "customer_value_total_ever_offline    8700\n",
      "customer_value_total_ever_online     8700\n",
      "interested_in_categories_12          8700\n",
      "dtype: int64\n",
      "##################### Quantiles #####################\n",
      "                                      count    mean     std    min     0%  \\\n",
      "order_num_total_ever_online       11245.000   2.358   2.671  1.000  1.000   \n",
      "order_num_total_ever_offline      11245.000   1.661   1.629  1.000  1.000   \n",
      "customer_value_total_ever_offline 11245.000 216.776 274.529 10.000 10.000   \n",
      "customer_value_total_ever_online  11245.000 360.535 431.211 14.990 14.990   \n",
      "\n",
      "                                      5%     25%     50%     75%     90%  \\\n",
      "order_num_total_ever_online        1.000   1.000   1.000   3.000   5.000   \n",
      "order_num_total_ever_offline       1.000   1.000   1.000   2.000   3.000   \n",
      "customer_value_total_ever_offline 39.990  90.490 155.860 277.970 430.956   \n",
      "customer_value_total_ever_online  59.990 124.940 229.900 431.930 770.208   \n",
      "\n",
      "                                       95%      99%      100%       max  \n",
      "order_num_total_ever_online          7.000   13.000    49.000    49.000  \n",
      "order_num_total_ever_offline         4.000    6.000    87.000    87.000  \n",
      "customer_value_total_ever_offline  579.966  961.055 18119.140 18119.140  \n",
      "customer_value_total_ever_online  1079.882 2112.080  8667.730  8667.730  \n"
     ]
    }
   ],
   "source": [
    "check_df(df)"
   ]
  },
  {
   "cell_type": "markdown",
   "id": "d180dd1c",
   "metadata": {
    "papermill": {
     "duration": 0.010423,
     "end_time": "2025-03-26T15:53:51.728716",
     "exception": false,
     "start_time": "2025-03-26T15:53:51.718293",
     "status": "completed"
    },
    "tags": []
   },
   "source": [
    "# Convert Date Columns to DateTime"
   ]
  },
  {
   "cell_type": "code",
   "execution_count": 7,
   "id": "bbe50b1a",
   "metadata": {
    "execution": {
     "iopub.execute_input": "2025-03-26T15:53:51.753453Z",
     "iopub.status.busy": "2025-03-26T15:53:51.753017Z",
     "iopub.status.idle": "2025-03-26T15:53:51.778443Z",
     "shell.execute_reply": "2025-03-26T15:53:51.777254Z"
    },
    "papermill": {
     "duration": 0.04016,
     "end_time": "2025-03-26T15:53:51.780388",
     "exception": false,
     "start_time": "2025-03-26T15:53:51.740228",
     "status": "completed"
    },
    "tags": []
   },
   "outputs": [],
   "source": [
    "\n",
    "date_columns = [col for col in df.columns if 'date' in col.lower()]\n",
    "for col in date_columns:\n",
    "    df[col] = pd.to_datetime(df[col])"
   ]
  },
  {
   "cell_type": "markdown",
   "id": "365f9702",
   "metadata": {
    "papermill": {
     "duration": 0.010514,
     "end_time": "2025-03-26T15:53:51.803430",
     "exception": false,
     "start_time": "2025-03-26T15:53:51.792916",
     "status": "completed"
    },
    "tags": []
   },
   "source": [
    "# Capturing / Detecting Numeric and Categorical Variables"
   ]
  },
  {
   "cell_type": "code",
   "execution_count": 8,
   "id": "d631ccec",
   "metadata": {
    "execution": {
     "iopub.execute_input": "2025-03-26T15:53:51.826526Z",
     "iopub.status.busy": "2025-03-26T15:53:51.826148Z",
     "iopub.status.idle": "2025-03-26T15:53:51.834293Z",
     "shell.execute_reply": "2025-03-26T15:53:51.833359Z"
    },
    "papermill": {
     "duration": 0.02176,
     "end_time": "2025-03-26T15:53:51.835999",
     "exception": false,
     "start_time": "2025-03-26T15:53:51.814239",
     "status": "completed"
    },
    "tags": []
   },
   "outputs": [],
   "source": [
    "def grab_col_names(dataframe, cat_th=10, car_th=20):\n",
    "    \"\"\"\n",
    "\n",
    "    Returns the names of categorical, numeric and categorical but cardinal variables in the data set.\n",
    "    Note Categorical variables include categorical variables with numeric appearance.\n",
    "\n",
    "    Parameters\n",
    "    ------\n",
    "        dataframe: dataframe\n",
    "                Variable names of the dataframe to be taken\n",
    "        cat_th: int, optional\n",
    "                class threshold for numeric but categorical variables\n",
    "        car_th: int, optinal\n",
    "                class threshold for categorical but cardinal variables\n",
    "\n",
    "    Returns\n",
    "    ------\n",
    "        cat_cols: list\n",
    "                Categorical variable list\n",
    "        num_cols: list\n",
    "                Numeric variable list\n",
    "        cat_but_car: list\n",
    "                List of cardinal variables with categorical appearance\n",
    "\n",
    "    Examples\n",
    "    ------\n",
    "        import seaborn as sns\n",
    "        df = sns.load_dataset(\"iris\")\n",
    "        print(grab_col_names(df))\n",
    "\n",
    "\n",
    "    Notes\n",
    "    ------\n",
    "        cat_cols + num_cols + cat_but_car = total number of variables\n",
    "        num_but_cat is inside cat_cols.\n",
    "        The sum of the 3 return lists equals the total number of variables: cat_cols + num_cols + cat_but_car = number of variables\n",
    "\n",
    "    \"\"\"\n",
    "\n",
    "    # cat_cols, cat_but_car\n",
    "    cat_cols = [col for col in dataframe.columns if dataframe[col].dtypes == \"O\"]\n",
    "\n",
    "    num_but_cat = [col for col in dataframe.columns if dataframe[col].nunique() < cat_th and\n",
    "                   dataframe[col].dtypes != \"O\"]\n",
    "\n",
    "    cat_but_car = [col for col in dataframe.columns if dataframe[col].nunique() > car_th and\n",
    "                   dataframe[col].dtypes == \"O\"]\n",
    "\n",
    "    cat_cols = cat_cols + num_but_cat\n",
    "\n",
    "    cat_cols = [col for col in cat_cols if col not in cat_but_car]\n",
    "\n",
    "    num_cols = [col for col in dataframe.columns if dataframe[col].dtypes != \"O\"]\n",
    "\n",
    "    num_cols = [col for col in num_cols if col not in num_but_cat]\n",
    "\n",
    "    print(f\"Observations: {dataframe.shape[0]}\")\n",
    "    print(f\"Variables: {dataframe.shape[1]}\")\n",
    "    print(f'cat_cols: {len(cat_cols)}')\n",
    "    print(f'num_cols: {len(num_cols)}')\n",
    "    print(f'cat_but_car: {len(cat_but_car)}')\n",
    "    print(f'num_but_cat: {len(num_but_cat)}')\n",
    "\n",
    "\n",
    "    return cat_cols, num_cols, cat_but_car, num_but_cat"
   ]
  },
  {
   "cell_type": "code",
   "execution_count": 9,
   "id": "f87be543",
   "metadata": {
    "execution": {
     "iopub.execute_input": "2025-03-26T15:53:51.859108Z",
     "iopub.status.busy": "2025-03-26T15:53:51.858729Z",
     "iopub.status.idle": "2025-03-26T15:53:51.891464Z",
     "shell.execute_reply": "2025-03-26T15:53:51.890266Z"
    },
    "papermill": {
     "duration": 0.046573,
     "end_time": "2025-03-26T15:53:51.893501",
     "exception": false,
     "start_time": "2025-03-26T15:53:51.846928",
     "status": "completed"
    },
    "tags": []
   },
   "outputs": [
    {
     "name": "stdout",
     "output_type": "stream",
     "text": [
      "Observations: 19945\n",
      "Variables: 12\n",
      "cat_cols: 3\n",
      "num_cols: 8\n",
      "cat_but_car: 1\n",
      "num_but_cat: 0\n"
     ]
    }
   ],
   "source": [
    "cat_cols, num_cols, cat_but_car,  num_but_cat = grab_col_names(df)"
   ]
  },
  {
   "cell_type": "code",
   "execution_count": 10,
   "id": "51e8fd88",
   "metadata": {
    "execution": {
     "iopub.execute_input": "2025-03-26T15:53:51.918270Z",
     "iopub.status.busy": "2025-03-26T15:53:51.917935Z",
     "iopub.status.idle": "2025-03-26T15:53:51.924445Z",
     "shell.execute_reply": "2025-03-26T15:53:51.923267Z"
    },
    "papermill": {
     "duration": 0.021036,
     "end_time": "2025-03-26T15:53:51.926253",
     "exception": false,
     "start_time": "2025-03-26T15:53:51.905217",
     "status": "completed"
    },
    "tags": []
   },
   "outputs": [
    {
     "data": {
      "text/plain": [
       "['order_channel', 'last_order_channel', 'interested_in_categories_12']"
      ]
     },
     "execution_count": 10,
     "metadata": {},
     "output_type": "execute_result"
    }
   ],
   "source": [
    "cat_cols"
   ]
  },
  {
   "cell_type": "code",
   "execution_count": 11,
   "id": "e557a8f4",
   "metadata": {
    "execution": {
     "iopub.execute_input": "2025-03-26T15:53:51.949797Z",
     "iopub.status.busy": "2025-03-26T15:53:51.949357Z",
     "iopub.status.idle": "2025-03-26T15:53:51.955119Z",
     "shell.execute_reply": "2025-03-26T15:53:51.954089Z"
    },
    "papermill": {
     "duration": 0.019409,
     "end_time": "2025-03-26T15:53:51.956915",
     "exception": false,
     "start_time": "2025-03-26T15:53:51.937506",
     "status": "completed"
    },
    "tags": []
   },
   "outputs": [
    {
     "data": {
      "text/plain": [
       "['first_order_date',\n",
       " 'last_order_date',\n",
       " 'last_order_date_online',\n",
       " 'last_order_date_offline',\n",
       " 'order_num_total_ever_online',\n",
       " 'order_num_total_ever_offline',\n",
       " 'customer_value_total_ever_offline',\n",
       " 'customer_value_total_ever_online']"
      ]
     },
     "execution_count": 11,
     "metadata": {},
     "output_type": "execute_result"
    }
   ],
   "source": [
    "num_cols"
   ]
  },
  {
   "cell_type": "code",
   "execution_count": 12,
   "id": "96348cea",
   "metadata": {
    "execution": {
     "iopub.execute_input": "2025-03-26T15:53:51.982704Z",
     "iopub.status.busy": "2025-03-26T15:53:51.982270Z",
     "iopub.status.idle": "2025-03-26T15:53:51.988364Z",
     "shell.execute_reply": "2025-03-26T15:53:51.987309Z"
    },
    "papermill": {
     "duration": 0.021492,
     "end_time": "2025-03-26T15:53:51.990284",
     "exception": false,
     "start_time": "2025-03-26T15:53:51.968792",
     "status": "completed"
    },
    "tags": []
   },
   "outputs": [
    {
     "data": {
      "text/plain": [
       "['master_id']"
      ]
     },
     "execution_count": 12,
     "metadata": {},
     "output_type": "execute_result"
    }
   ],
   "source": [
    "cat_but_car"
   ]
  },
  {
   "cell_type": "code",
   "execution_count": 13,
   "id": "20bac605",
   "metadata": {
    "execution": {
     "iopub.execute_input": "2025-03-26T15:53:52.014554Z",
     "iopub.status.busy": "2025-03-26T15:53:52.014159Z",
     "iopub.status.idle": "2025-03-26T15:53:52.019579Z",
     "shell.execute_reply": "2025-03-26T15:53:52.018654Z"
    },
    "papermill": {
     "duration": 0.019703,
     "end_time": "2025-03-26T15:53:52.021348",
     "exception": false,
     "start_time": "2025-03-26T15:53:52.001645",
     "status": "completed"
    },
    "tags": []
   },
   "outputs": [
    {
     "data": {
      "text/plain": [
       "[]"
      ]
     },
     "execution_count": 13,
     "metadata": {},
     "output_type": "execute_result"
    }
   ],
   "source": [
    "num_but_cat"
   ]
  },
  {
   "cell_type": "markdown",
   "id": "0a6ce9e2",
   "metadata": {
    "papermill": {
     "duration": 0.011073,
     "end_time": "2025-03-26T15:53:52.044259",
     "exception": false,
     "start_time": "2025-03-26T15:53:52.033186",
     "status": "completed"
    },
    "tags": []
   },
   "source": [
    "# Analysis of Categorical Variables"
   ]
  },
  {
   "cell_type": "code",
   "execution_count": 14,
   "id": "85033205",
   "metadata": {
    "execution": {
     "iopub.execute_input": "2025-03-26T15:53:52.068388Z",
     "iopub.status.busy": "2025-03-26T15:53:52.068037Z",
     "iopub.status.idle": "2025-03-26T15:53:52.073288Z",
     "shell.execute_reply": "2025-03-26T15:53:52.072336Z"
    },
    "papermill": {
     "duration": 0.019365,
     "end_time": "2025-03-26T15:53:52.075099",
     "exception": false,
     "start_time": "2025-03-26T15:53:52.055734",
     "status": "completed"
    },
    "tags": []
   },
   "outputs": [],
   "source": [
    "def cat_summary(dataframe, col_name, plot=False):\n",
    "    print(pd.DataFrame({col_name: dataframe[col_name].value_counts(),\n",
    "                        \"Ratio\": 100 * dataframe[col_name].value_counts() / len(dataframe)}))\n",
    "    print(\"##########################################\")\n",
    "    if plot:\n",
    "        sns.countplot(x=dataframe[col_name], data=dataframe, palette=\"Set2\")\n",
    "        plt.show(block=True)"
   ]
  },
  {
   "cell_type": "code",
   "execution_count": 15,
   "id": "ca50ef38",
   "metadata": {
    "execution": {
     "iopub.execute_input": "2025-03-26T15:53:52.099009Z",
     "iopub.status.busy": "2025-03-26T15:53:52.098644Z",
     "iopub.status.idle": "2025-03-26T15:53:52.806854Z",
     "shell.execute_reply": "2025-03-26T15:53:52.805478Z"
    },
    "papermill": {
     "duration": 0.722256,
     "end_time": "2025-03-26T15:53:52.808667",
     "exception": false,
     "start_time": "2025-03-26T15:53:52.086411",
     "status": "completed"
    },
    "tags": []
   },
   "outputs": [
    {
     "name": "stdout",
     "output_type": "stream",
     "text": [
      "               order_channel  Ratio\n",
      "order_channel                      \n",
      "Android App             4858 24.357\n",
      "Mobile                  3097 15.528\n",
      "Desktop                 1742  8.734\n",
      "Ios App                 1548  7.761\n",
      "##########################################\n"
     ]
    },
    {
     "data": {
      "image/png": "[encoded data removed]",
      "text/plain": [
       "<Figure size 800x550 with 1 Axes>"
      ]
     },
     "metadata": {},
     "output_type": "display_data"
    },
    {
     "name": "stdout",
     "output_type": "stream",
     "text": [
      "                    last_order_channel  Ratio\n",
      "last_order_channel                           \n",
      "Android App                       3613 18.115\n",
      "Offline                           3528 17.689\n",
      "Mobile                            2086 10.459\n",
      "Desktop                           1017  5.099\n",
      "Ios App                           1001  5.019\n",
      "##########################################\n"
     ]
    },
    {
     "data": {
      "image/png": "[encoded data removed]",
      "text/plain": [
       "<Figure size 800x550 with 1 Axes>"
      ]
     },
     "metadata": {},
     "output_type": "display_data"
    },
    {
     "name": "stdout",
     "output_type": "stream",
     "text": [
      "                             interested_in_categories_12  Ratio\n",
      "interested_in_categories_12                                    \n",
      "[AKTIFSPOR]                                         3464 17.368\n",
      "[KADIN]                                             2158 10.820\n",
      "[]                                                  2135 10.704\n",
      "[ERKEK]                                             1973  9.892\n",
      "[COCUK]                                              836  4.192\n",
      "[AKTIFCOCUK]                                         679  3.404\n",
      "##########################################\n"
     ]
    },
    {
     "data": {
      "image/png": "[encoded data removed]",
      "text/plain": [
       "<Figure size 800x550 with 1 Axes>"
      ]
     },
     "metadata": {},
     "output_type": "display_data"
    }
   ],
   "source": [
    "for col in cat_cols:\n",
    "    cat_summary(df, col, plot=True)"
   ]
  },
  {
   "cell_type": "markdown",
   "id": "d5a7e37a",
   "metadata": {
    "papermill": {
     "duration": 0.013655,
     "end_time": "2025-03-26T15:53:52.835794",
     "exception": false,
     "start_time": "2025-03-26T15:53:52.822139",
     "status": "completed"
    },
    "tags": []
   },
   "source": [
    "# Analysis of Numerical Variables"
   ]
  },
  {
   "cell_type": "code",
   "execution_count": 16,
   "id": "38a7d97c",
   "metadata": {
    "execution": {
     "iopub.execute_input": "2025-03-26T15:53:52.863089Z",
     "iopub.status.busy": "2025-03-26T15:53:52.862701Z",
     "iopub.status.idle": "2025-03-26T15:53:52.868266Z",
     "shell.execute_reply": "2025-03-26T15:53:52.867235Z"
    },
    "papermill": {
     "duration": 0.021391,
     "end_time": "2025-03-26T15:53:52.870143",
     "exception": false,
     "start_time": "2025-03-26T15:53:52.848752",
     "status": "completed"
    },
    "tags": []
   },
   "outputs": [],
   "source": [
    "def num_summary(dataframe, col_name, plot=False):\n",
    "    quantiles = [0.05, 0.10,0.40, 0.50, 0.80, 0.90, 0.95]\n",
    "    print(dataframe[col_name].describe(quantiles).T)\n",
    "\n",
    "    if plot:\n",
    "        sns.histplot(data=dataframe, x=col_name, bins=20, kde=True, color=\"blue\")\n",
    "        plt.show(block=True)"
   ]
  },
  {
   "cell_type": "code",
   "execution_count": 17,
   "id": "8c1c9b4c",
   "metadata": {
    "execution": {
     "iopub.execute_input": "2025-03-26T15:53:52.898134Z",
     "iopub.status.busy": "2025-03-26T15:53:52.897748Z",
     "iopub.status.idle": "2025-03-26T15:53:55.503160Z",
     "shell.execute_reply": "2025-03-26T15:53:55.501976Z"
    },
    "papermill": {
     "duration": 2.621358,
     "end_time": "2025-03-26T15:53:55.505163",
     "exception": false,
     "start_time": "2025-03-26T15:53:52.883805",
     "status": "completed"
    },
    "tags": []
   },
   "outputs": [
    {
     "name": "stdout",
     "output_type": "stream",
     "text": [
      "count                            11245\n",
      "mean     2019-03-22 11:48:24.650955776\n",
      "min                2013-01-27 00:00:00\n",
      "5%                 2015-11-04 09:36:00\n",
      "10%                2017-04-24 09:36:00\n",
      "40%                2019-06-08 00:00:00\n",
      "50%                2019-08-17 00:00:00\n",
      "80%                2020-01-16 00:00:00\n",
      "90%                2020-05-01 14:24:00\n",
      "95%                2020-09-19 00:00:00\n",
      "max                2021-05-27 00:00:00\n",
      "Name: first_order_date, dtype: object\n"
     ]
    },
    {
     "data": {
      "image/png": "[encoded data removed]",
      "text/plain": [
       "<Figure size 800x550 with 1 Axes>"
      ]
     },
     "metadata": {},
     "output_type": "display_data"
    },
    {
     "name": "stdout",
     "output_type": "stream",
     "text": [
      "count                            11245\n",
      "mean     2021-01-12 19:07:23.397065216\n",
      "min                2020-05-30 00:00:00\n",
      "5%                 2020-06-25 00:00:00\n",
      "10%                2020-07-20 00:00:00\n",
      "40%                2020-12-29 00:00:00\n",
      "50%                2021-02-06 00:00:00\n",
      "80%                2021-05-01 00:00:00\n",
      "90%                2021-05-15 00:00:00\n",
      "95%                2021-05-23 00:00:00\n",
      "max                2021-05-30 00:00:00\n",
      "Name: last_order_date, dtype: object\n"
     ]
    },
    {
     "data": {
      "image/png": "[encoded data removed]",
      "text/plain": [
       "<Figure size 800x550 with 1 Axes>"
      ]
     },
     "metadata": {},
     "output_type": "display_data"
    },
    {
     "name": "stdout",
     "output_type": "stream",
     "text": [
      "count                            11245\n",
      "mean     2020-07-15 13:40:58.372610048\n",
      "min                2014-02-24 00:00:00\n",
      "5%                 2017-12-07 00:00:00\n",
      "10%                2019-02-09 09:36:00\n",
      "40%                2020-10-13 00:00:00\n",
      "50%                2020-12-01 00:00:00\n",
      "80%                2021-04-25 00:00:00\n",
      "90%                2021-05-10 00:00:00\n",
      "95%                2021-05-20 00:00:00\n",
      "max                2021-05-30 00:00:00\n",
      "Name: last_order_date_online, dtype: object\n"
     ]
    },
    {
     "data": {
      "image/png": "[encoded data removed]",
      "text/plain": [
       "<Figure size 800x550 with 1 Axes>"
      ]
     },
     "metadata": {},
     "output_type": "display_data"
    },
    {
     "name": "stdout",
     "output_type": "stream",
     "text": [
      "count                            11245\n",
      "mean     2020-04-05 21:13:46.927523328\n",
      "min                2019-01-29 00:00:00\n",
      "5%                 2019-03-27 00:00:00\n",
      "10%                2019-07-09 00:00:00\n",
      "40%                2019-12-16 00:00:00\n",
      "50%                2020-02-04 00:00:00\n",
      "80%                2021-01-15 00:00:00\n",
      "90%                2021-03-19 00:00:00\n",
      "95%                2021-04-14 00:00:00\n",
      "max                2021-05-28 00:00:00\n",
      "Name: last_order_date_offline, dtype: object\n"
     ]
    },
    {
     "data": {
      "image/png": "[encoded data removed]",
      "text/plain": [
       "<Figure size 800x550 with 1 Axes>"
      ]
     },
     "metadata": {},
     "output_type": "display_data"
    },
    {
     "name": "stdout",
     "output_type": "stream",
     "text": [
      "count   11245.000\n",
      "mean        2.358\n",
      "std         2.671\n",
      "min         1.000\n",
      "5%          1.000\n",
      "10%         1.000\n",
      "40%         1.000\n",
      "50%         1.000\n",
      "80%         3.000\n",
      "90%         5.000\n",
      "95%         7.000\n",
      "max        49.000\n",
      "Name: order_num_total_ever_online, dtype: float64\n"
     ]
    },
    {
     "data": {
      "image/png": "[encoded data removed]",
      "text/plain": [
       "<Figure size 800x550 with 1 Axes>"
      ]
     },
     "metadata": {},
     "output_type": "display_data"
    },
    {
     "name": "stdout",
     "output_type": "stream",
     "text": [
      "count   11245.000\n",
      "mean        1.661\n",
      "std         1.629\n",
      "min         1.000\n",
      "5%          1.000\n",
      "10%         1.000\n",
      "40%         1.000\n",
      "50%         1.000\n",
      "80%         2.000\n",
      "90%         3.000\n",
      "95%         4.000\n",
      "max        87.000\n",
      "Name: order_num_total_ever_offline, dtype: float64\n"
     ]
    },
    {
     "data": {
      "image/png": "[encoded data removed]",
      "text/plain": [
       "<Figure size 800x550 with 1 Axes>"
      ]
     },
     "metadata": {},
     "output_type": "display_data"
    },
    {
     "name": "stdout",
     "output_type": "stream",
     "text": [
      "count   11245.000\n",
      "mean      216.776\n",
      "std       274.529\n",
      "min        10.000\n",
      "5%         39.990\n",
      "10%        59.980\n",
      "40%       129.970\n",
      "50%       155.860\n",
      "80%       309.970\n",
      "90%       430.956\n",
      "95%       579.966\n",
      "max     18119.140\n",
      "Name: customer_value_total_ever_offline, dtype: float64\n"
     ]
    },
    {
     "data": {
      "image/png": "[encoded data removed]",
      "text/plain": [
       "<Figure size 800x550 with 1 Axes>"
      ]
     },
     "metadata": {},
     "output_type": "display_data"
    },
    {
     "name": "stdout",
     "output_type": "stream",
     "text": [
      "count   11245.000\n",
      "mean      360.535\n",
      "std       431.211\n",
      "min        14.990\n",
      "5%         59.990\n",
      "10%        76.990\n",
      "40%       180.772\n",
      "50%       229.900\n",
      "80%       503.982\n",
      "90%       770.208\n",
      "95%      1079.882\n",
      "max      8667.730\n",
      "Name: customer_value_total_ever_online, dtype: float64\n"
     ]
    },
    {
     "data": {
      "image/png": "[encoded data removed]",
      "text/plain": [
       "<Figure size 800x550 with 1 Axes>"
      ]
     },
     "metadata": {},
     "output_type": "display_data"
    }
   ],
   "source": [
    "for col in num_cols:\n",
    "    num_summary(df, col, plot=True)"
   ]
  },
  {
   "cell_type": "markdown",
   "id": "d15c7b22",
   "metadata": {
    "papermill": {
     "duration": 0.018079,
     "end_time": "2025-03-26T15:53:55.543253",
     "exception": false,
     "start_time": "2025-03-26T15:53:55.525174",
     "status": "completed"
    },
    "tags": []
   },
   "source": [
    "# Correlation Analysis"
   ]
  },
  {
   "cell_type": "code",
   "execution_count": 18,
   "id": "c14d9301",
   "metadata": {
    "execution": {
     "iopub.execute_input": "2025-03-26T15:53:55.581426Z",
     "iopub.status.busy": "2025-03-26T15:53:55.581050Z",
     "iopub.status.idle": "2025-03-26T15:53:55.608106Z",
     "shell.execute_reply": "2025-03-26T15:53:55.607032Z"
    },
    "papermill": {
     "duration": 0.04852,
     "end_time": "2025-03-26T15:53:55.610168",
     "exception": false,
     "start_time": "2025-03-26T15:53:55.561648",
     "status": "completed"
    },
    "tags": []
   },
   "outputs": [
    {
     "data": {
      "text/html": [
       "<div>\n",
       "<style scoped>\n",
       "    .dataframe tbody tr th:only-of-type {\n",
       "        vertical-align: middle;\n",
       "    }\n",
       "\n",
       "    .dataframe tbody tr th {\n",
       "        vertical-align: top;\n",
       "    }\n",
       "\n",
       "    .dataframe thead th {\n",
       "        text-align: right;\n",
       "    }\n",
       "</style>\n",
       "<table border=\"1\" class=\"dataframe\">\n",
       "  <thead>\n",
       "    <tr style=\"text-align: right;\">\n",
       "      <th></th>\n",
       "      <th>first_order_date</th>\n",
       "      <th>last_order_date</th>\n",
       "      <th>last_order_date_online</th>\n",
       "      <th>last_order_date_offline</th>\n",
       "      <th>order_num_total_ever_online</th>\n",
       "      <th>order_num_total_ever_offline</th>\n",
       "      <th>customer_value_total_ever_offline</th>\n",
       "      <th>customer_value_total_ever_online</th>\n",
       "    </tr>\n",
       "  </thead>\n",
       "  <tbody>\n",
       "    <tr>\n",
       "      <th>first_order_date</th>\n",
       "      <td>1.000</td>\n",
       "      <td>1.000</td>\n",
       "      <td>1.000</td>\n",
       "      <td>1.000</td>\n",
       "      <td>-0.376</td>\n",
       "      <td>-0.071</td>\n",
       "      <td>-0.024</td>\n",
       "      <td>-0.213</td>\n",
       "    </tr>\n",
       "    <tr>\n",
       "      <th>last_order_date</th>\n",
       "      <td>1.000</td>\n",
       "      <td>1.000</td>\n",
       "      <td>1.000</td>\n",
       "      <td>1.000</td>\n",
       "      <td>0.032</td>\n",
       "      <td>0.011</td>\n",
       "      <td>0.036</td>\n",
       "      <td>0.067</td>\n",
       "    </tr>\n",
       "    <tr>\n",
       "      <th>last_order_date_online</th>\n",
       "      <td>1.000</td>\n",
       "      <td>1.000</td>\n",
       "      <td>1.000</td>\n",
       "      <td>1.000</td>\n",
       "      <td>0.084</td>\n",
       "      <td>-0.046</td>\n",
       "      <td>-0.053</td>\n",
       "      <td>0.149</td>\n",
       "    </tr>\n",
       "    <tr>\n",
       "      <th>last_order_date_offline</th>\n",
       "      <td>1.000</td>\n",
       "      <td>1.000</td>\n",
       "      <td>1.000</td>\n",
       "      <td>1.000</td>\n",
       "      <td>-0.089</td>\n",
       "      <td>0.151</td>\n",
       "      <td>0.191</td>\n",
       "      <td>-0.110</td>\n",
       "    </tr>\n",
       "    <tr>\n",
       "      <th>order_num_total_ever_online</th>\n",
       "      <td>-0.376</td>\n",
       "      <td>0.032</td>\n",
       "      <td>0.084</td>\n",
       "      <td>-0.089</td>\n",
       "      <td>1.000</td>\n",
       "      <td>0.005</td>\n",
       "      <td>-0.010</td>\n",
       "      <td>0.823</td>\n",
       "    </tr>\n",
       "    <tr>\n",
       "      <th>order_num_total_ever_offline</th>\n",
       "      <td>-0.071</td>\n",
       "      <td>0.011</td>\n",
       "      <td>-0.046</td>\n",
       "      <td>0.151</td>\n",
       "      <td>0.005</td>\n",
       "      <td>1.000</td>\n",
       "      <td>0.584</td>\n",
       "      <td>-0.001</td>\n",
       "    </tr>\n",
       "    <tr>\n",
       "      <th>customer_value_total_ever_offline</th>\n",
       "      <td>-0.024</td>\n",
       "      <td>0.036</td>\n",
       "      <td>-0.053</td>\n",
       "      <td>0.191</td>\n",
       "      <td>-0.010</td>\n",
       "      <td>0.584</td>\n",
       "      <td>1.000</td>\n",
       "      <td>0.052</td>\n",
       "    </tr>\n",
       "    <tr>\n",
       "      <th>customer_value_total_ever_online</th>\n",
       "      <td>-0.213</td>\n",
       "      <td>0.067</td>\n",
       "      <td>0.149</td>\n",
       "      <td>-0.110</td>\n",
       "      <td>0.823</td>\n",
       "      <td>-0.001</td>\n",
       "      <td>0.052</td>\n",
       "      <td>1.000</td>\n",
       "    </tr>\n",
       "  </tbody>\n",
       "</table>\n",
       "</div>"
      ],
      "text/plain": [
       "                                   first_order_date  last_order_date  \\\n",
       "first_order_date                              1.000            1.000   \n",
       "last_order_date                               1.000            1.000   \n",
       "last_order_date_online                        1.000            1.000   \n",
       "last_order_date_offline                       1.000            1.000   \n",
       "order_num_total_ever_online                  -0.376            0.032   \n",
       "order_num_total_ever_offline                 -0.071            0.011   \n",
       "customer_value_total_ever_offline            -0.024            0.036   \n",
       "customer_value_total_ever_online             -0.213            0.067   \n",
       "\n",
       "                                   last_order_date_online  \\\n",
       "first_order_date                                    1.000   \n",
       "last_order_date                                     1.000   \n",
       "last_order_date_online                              1.000   \n",
       "last_order_date_offline                             1.000   \n",
       "order_num_total_ever_online                         0.084   \n",
       "order_num_total_ever_offline                       -0.046   \n",
       "customer_value_total_ever_offline                  -0.053   \n",
       "customer_value_total_ever_online                    0.149   \n",
       "\n",
       "                                   last_order_date_offline  \\\n",
       "first_order_date                                     1.000   \n",
       "last_order_date                                      1.000   \n",
       "last_order_date_online                               1.000   \n",
       "last_order_date_offline                              1.000   \n",
       "order_num_total_ever_online                         -0.089   \n",
       "order_num_total_ever_offline                         0.151   \n",
       "customer_value_total_ever_offline                    0.191   \n",
       "customer_value_total_ever_online                    -0.110   \n",
       "\n",
       "                                   order_num_total_ever_online  \\\n",
       "first_order_date                                        -0.376   \n",
       "last_order_date                                          0.032   \n",
       "last_order_date_online                                   0.084   \n",
       "last_order_date_offline                                 -0.089   \n",
       "order_num_total_ever_online                              1.000   \n",
       "order_num_total_ever_offline                             0.005   \n",
       "customer_value_total_ever_offline                       -0.010   \n",
       "customer_value_total_ever_online                         0.823   \n",
       "\n",
       "                                   order_num_total_ever_offline  \\\n",
       "first_order_date                                         -0.071   \n",
       "last_order_date                                           0.011   \n",
       "last_order_date_online                                   -0.046   \n",
       "last_order_date_offline                                   0.151   \n",
       "order_num_total_ever_online                               0.005   \n",
       "order_num_total_ever_offline                              1.000   \n",
       "customer_value_total_ever_offline                         0.584   \n",
       "customer_value_total_ever_online                         -0.001   \n",
       "\n",
       "                                   customer_value_total_ever_offline  \\\n",
       "first_order_date                                              -0.024   \n",
       "last_order_date                                                0.036   \n",
       "last_order_date_online                                        -0.053   \n",
       "last_order_date_offline                                        0.191   \n",
       "order_num_total_ever_online                                   -0.010   \n",
       "order_num_total_ever_offline                                   0.584   \n",
       "customer_value_total_ever_offline                              1.000   \n",
       "customer_value_total_ever_online                               0.052   \n",
       "\n",
       "                                   customer_value_total_ever_online  \n",
       "first_order_date                                             -0.213  \n",
       "last_order_date                                               0.067  \n",
       "last_order_date_online                                        0.149  \n",
       "last_order_date_offline                                      -0.110  \n",
       "order_num_total_ever_online                                   0.823  \n",
       "order_num_total_ever_offline                                 -0.001  \n",
       "customer_value_total_ever_offline                             0.052  \n",
       "customer_value_total_ever_online                              1.000  "
      ]
     },
     "execution_count": 18,
     "metadata": {},
     "output_type": "execute_result"
    }
   ],
   "source": [
    "corr = df[num_cols].corr()\n",
    "corr"
   ]
  },
  {
   "cell_type": "code",
   "execution_count": 19,
   "id": "47b274de",
   "metadata": {
    "execution": {
     "iopub.execute_input": "2025-03-26T15:53:55.649163Z",
     "iopub.status.busy": "2025-03-26T15:53:55.648774Z",
     "iopub.status.idle": "2025-03-26T15:53:55.655303Z",
     "shell.execute_reply": "2025-03-26T15:53:55.654313Z"
    },
    "papermill": {
     "duration": 0.027927,
     "end_time": "2025-03-26T15:53:55.657014",
     "exception": false,
     "start_time": "2025-03-26T15:53:55.629087",
     "status": "completed"
    },
    "tags": []
   },
   "outputs": [],
   "source": [
    "def high_correlated_cols(dataframe, plot=False, corr_th=0.70):\n",
    "    # Only numerical columns\n",
    "    numeric_df = dataframe.select_dtypes(include=[np.number])\n",
    "\n",
    "    # Correlation matrix\n",
    "    corr = numeric_df.corr()\n",
    "    cor_matrix = corr.abs()\n",
    "\n",
    "    # Select upper triangular matrix (to remove unnecessary repetitions)\n",
    "    upper_triangle_matrix = cor_matrix.where(np.triu(np.ones(cor_matrix.shape), k=1).astype(bool))\n",
    "\n",
    "    # Let's select the column pairs whose correlation is higher than the threshold\n",
    "    high_corrs = [(col, row)\n",
    "                  for col in cor_matrix.columns\n",
    "                  for row in cor_matrix.index\n",
    "                  if not pd.isna(upper_triangle_matrix.loc[row, col]) and abs(\n",
    "            upper_triangle_matrix.loc[row, col]) > corr_th]\n",
    "\n",
    "    if plot:\n",
    "        # Heatmap\n",
    "        plt.figure(figsize=(10, 6))\n",
    "        sns.heatmap(corr, annot=True, fmt=\".2f\", cmap=\"RdBu\")\n",
    "        plt.title(\"Correlation Heat Map\")\n",
    "        plt.show()\n",
    "\n",
    "    return high_corrs"
   ]
  },
  {
   "cell_type": "code",
   "execution_count": 20,
   "id": "4f3ad775",
   "metadata": {
    "execution": {
     "iopub.execute_input": "2025-03-26T15:53:55.696412Z",
     "iopub.status.busy": "2025-03-26T15:53:55.696033Z",
     "iopub.status.idle": "2025-03-26T15:53:56.002800Z",
     "shell.execute_reply": "2025-03-26T15:53:56.001724Z"
    },
    "papermill": {
     "duration": 0.328405,
     "end_time": "2025-03-26T15:53:56.004463",
     "exception": false,
     "start_time": "2025-03-26T15:53:55.676058",
     "status": "completed"
    },
    "tags": []
   },
   "outputs": [
    {
     "data": {
      "image/png": "[encoded data removed]",
      "text/plain": [
       "<Figure size 1000x600 with 2 Axes>"
      ]
     },
     "metadata": {},
     "output_type": "display_data"
    },
    {
     "data": {
      "text/plain": [
       "[('customer_value_total_ever_online', 'order_num_total_ever_online')]"
      ]
     },
     "execution_count": 20,
     "metadata": {},
     "output_type": "execute_result"
    }
   ],
   "source": [
    "high_correlated_cols(df, plot=True)"
   ]
  },
  {
   "cell_type": "markdown",
   "id": "519116e5",
   "metadata": {
    "papermill": {
     "duration": 0.021817,
     "end_time": "2025-03-26T15:53:56.047007",
     "exception": false,
     "start_time": "2025-03-26T15:53:56.025190",
     "status": "completed"
    },
    "tags": []
   },
   "source": [
    "# Feature Engineering"
   ]
  },
  {
   "cell_type": "markdown",
   "id": "ba3eb175",
   "metadata": {
    "papermill": {
     "duration": 0.020249,
     "end_time": "2025-03-26T15:53:56.088050",
     "exception": false,
     "start_time": "2025-03-26T15:53:56.067801",
     "status": "completed"
    },
    "tags": []
   },
   "source": [
    "\n",
    "*  Missing Values Detection** \n",
    "*  Outlier Detection (Outliers)\n",
    "*  Feature Extraction\n"
   ]
  },
  {
   "cell_type": "markdown",
   "id": "cfae1efd",
   "metadata": {
    "papermill": {
     "duration": 0.020123,
     "end_time": "2025-03-26T15:53:56.128750",
     "exception": false,
     "start_time": "2025-03-26T15:53:56.108627",
     "status": "completed"
    },
    "tags": []
   },
   "source": [
    "# Missing Value Analysis"
   ]
  },
  {
   "cell_type": "code",
   "execution_count": 21,
   "id": "b26912c4",
   "metadata": {
    "execution": {
     "iopub.execute_input": "2025-03-26T15:53:56.171723Z",
     "iopub.status.busy": "2025-03-26T15:53:56.171292Z",
     "iopub.status.idle": "2025-03-26T15:53:56.184095Z",
     "shell.execute_reply": "2025-03-26T15:53:56.183048Z"
    },
    "papermill": {
     "duration": 0.036342,
     "end_time": "2025-03-26T15:53:56.185812",
     "exception": false,
     "start_time": "2025-03-26T15:53:56.149470",
     "status": "completed"
    },
    "tags": []
   },
   "outputs": [
    {
     "data": {
      "text/plain": [
       "master_id                               0\n",
       "order_channel                        8700\n",
       "last_order_channel                   8700\n",
       "first_order_date                     8700\n",
       "last_order_date                      8700\n",
       "last_order_date_online               8700\n",
       "last_order_date_offline              8700\n",
       "order_num_total_ever_online          8700\n",
       "order_num_total_ever_offline         8700\n",
       "customer_value_total_ever_offline    8700\n",
       "customer_value_total_ever_online     8700\n",
       "interested_in_categories_12          8700\n",
       "dtype: int64"
      ]
     },
     "execution_count": 21,
     "metadata": {},
     "output_type": "execute_result"
    }
   ],
   "source": [
    "df.isnull().sum()"
   ]
  },
  {
   "cell_type": "markdown",
   "id": "ac4c9a26",
   "metadata": {
    "papermill": {
     "duration": 0.020429,
     "end_time": "2025-03-26T15:53:56.226910",
     "exception": false,
     "start_time": "2025-03-26T15:53:56.206481",
     "status": "completed"
    },
    "tags": []
   },
   "source": [
    "# Outlier Analysis"
   ]
  },
  {
   "cell_type": "code",
   "execution_count": 22,
   "id": "160ec6f8",
   "metadata": {
    "execution": {
     "iopub.execute_input": "2025-03-26T15:53:56.271314Z",
     "iopub.status.busy": "2025-03-26T15:53:56.270984Z",
     "iopub.status.idle": "2025-03-26T15:53:56.276507Z",
     "shell.execute_reply": "2025-03-26T15:53:56.275022Z"
    },
    "papermill": {
     "duration": 0.029441,
     "end_time": "2025-03-26T15:53:56.278545",
     "exception": false,
     "start_time": "2025-03-26T15:53:56.249104",
     "status": "completed"
    },
    "tags": []
   },
   "outputs": [],
   "source": [
    "def outlier_thresholds(dataframe, col_name, q1=0.05, q3=0.95):\n",
    "    quartile1 = dataframe[col_name].quantile(q1)\n",
    "    quartile3 = dataframe[col_name].quantile(q3)\n",
    "    interquantile_range = quartile3 - quartile1\n",
    "    up_limit = quartile3 + 1.5 * interquantile_range\n",
    "    low_limit = quartile1 - 1.5 * interquantile_range\n",
    "    return low_limit, up_limit"
   ]
  },
  {
   "cell_type": "code",
   "execution_count": 23,
   "id": "039d84f7",
   "metadata": {
    "execution": {
     "iopub.execute_input": "2025-03-26T15:53:56.322068Z",
     "iopub.status.busy": "2025-03-26T15:53:56.321704Z",
     "iopub.status.idle": "2025-03-26T15:53:56.327108Z",
     "shell.execute_reply": "2025-03-26T15:53:56.325831Z"
    },
    "papermill": {
     "duration": 0.029072,
     "end_time": "2025-03-26T15:53:56.328920",
     "exception": false,
     "start_time": "2025-03-26T15:53:56.299848",
     "status": "completed"
    },
    "tags": []
   },
   "outputs": [],
   "source": [
    "def check_outlier(dataframe, col_name):\n",
    "    low_limit, up_limit = outlier_thresholds(dataframe, col_name)\n",
    "    if dataframe[(dataframe[col_name] > up_limit) | (dataframe[col_name] < low_limit)].any(axis=None):\n",
    "        return True\n",
    "    else:\n",
    "        return False"
   ]
  },
  {
   "cell_type": "code",
   "execution_count": 24,
   "id": "8ff54ba2",
   "metadata": {
    "execution": {
     "iopub.execute_input": "2025-03-26T15:53:56.426860Z",
     "iopub.status.busy": "2025-03-26T15:53:56.426456Z",
     "iopub.status.idle": "2025-03-26T15:53:56.473957Z",
     "shell.execute_reply": "2025-03-26T15:53:56.472672Z"
    },
    "papermill": {
     "duration": 0.126182,
     "end_time": "2025-03-26T15:53:56.475789",
     "exception": false,
     "start_time": "2025-03-26T15:53:56.349607",
     "status": "completed"
    },
    "tags": []
   },
   "outputs": [
    {
     "name": "stdout",
     "output_type": "stream",
     "text": [
      "first_order_date False\n",
      "last_order_date False\n",
      "last_order_date_online False\n",
      "last_order_date_offline False\n",
      "order_num_total_ever_online True\n",
      "order_num_total_ever_offline True\n",
      "customer_value_total_ever_offline True\n",
      "customer_value_total_ever_online True\n"
     ]
    }
   ],
   "source": [
    "for col in num_cols:\n",
    "    print(col, check_outlier(df, col))"
   ]
  },
  {
   "cell_type": "code",
   "execution_count": 25,
   "id": "bc1ffd95",
   "metadata": {
    "execution": {
     "iopub.execute_input": "2025-03-26T15:53:56.519173Z",
     "iopub.status.busy": "2025-03-26T15:53:56.518785Z",
     "iopub.status.idle": "2025-03-26T15:53:56.523935Z",
     "shell.execute_reply": "2025-03-26T15:53:56.522661Z"
    },
    "papermill": {
     "duration": 0.029047,
     "end_time": "2025-03-26T15:53:56.525860",
     "exception": false,
     "start_time": "2025-03-26T15:53:56.496813",
     "status": "completed"
    },
    "tags": []
   },
   "outputs": [],
   "source": [
    "def replace_with_thresholds(dataframe, variable):\n",
    "    low_limit, up_limit = outlier_thresholds(dataframe, variable)\n",
    "    dataframe.loc[(dataframe[variable] < low_limit), variable] = low_limit\n",
    "    dataframe.loc[(dataframe[variable] > up_limit), variable] = up_limit"
   ]
  },
  {
   "cell_type": "code",
   "execution_count": 26,
   "id": "a1f970c3",
   "metadata": {
    "execution": {
     "iopub.execute_input": "2025-03-26T15:53:56.569296Z",
     "iopub.status.busy": "2025-03-26T15:53:56.568920Z",
     "iopub.status.idle": "2025-03-26T15:53:56.602894Z",
     "shell.execute_reply": "2025-03-26T15:53:56.601840Z"
    },
    "papermill": {
     "duration": 0.057748,
     "end_time": "2025-03-26T15:53:56.604913",
     "exception": false,
     "start_time": "2025-03-26T15:53:56.547165",
     "status": "completed"
    },
    "tags": []
   },
   "outputs": [],
   "source": [
    "for col in num_cols:\n",
    "    replace_with_thresholds(df, col)"
   ]
  },
  {
   "cell_type": "code",
   "execution_count": 27,
   "id": "4d02b957",
   "metadata": {
    "execution": {
     "iopub.execute_input": "2025-03-26T15:53:56.647764Z",
     "iopub.status.busy": "2025-03-26T15:53:56.647351Z",
     "iopub.status.idle": "2025-03-26T15:53:56.690906Z",
     "shell.execute_reply": "2025-03-26T15:53:56.689520Z"
    },
    "papermill": {
     "duration": 0.067082,
     "end_time": "2025-03-26T15:53:56.692766",
     "exception": false,
     "start_time": "2025-03-26T15:53:56.625684",
     "status": "completed"
    },
    "tags": []
   },
   "outputs": [
    {
     "name": "stdout",
     "output_type": "stream",
     "text": [
      "first_order_date False\n",
      "last_order_date False\n",
      "last_order_date_online False\n",
      "last_order_date_offline False\n",
      "order_num_total_ever_online False\n",
      "order_num_total_ever_offline False\n",
      "customer_value_total_ever_offline False\n",
      "customer_value_total_ever_online False\n"
     ]
    }
   ],
   "source": [
    "for col in num_cols:\n",
    "    print(col, check_outlier(df, col))"
   ]
  },
  {
   "cell_type": "markdown",
   "id": "6ee63ca5",
   "metadata": {
    "papermill": {
     "duration": 0.020321,
     "end_time": "2025-03-26T15:53:56.734390",
     "exception": false,
     "start_time": "2025-03-26T15:53:56.714069",
     "status": "completed"
    },
    "tags": []
   },
   "source": [
    "# Feature Extraction"
   ]
  },
  {
   "cell_type": "code",
   "execution_count": 28,
   "id": "143bb66a",
   "metadata": {
    "execution": {
     "iopub.execute_input": "2025-03-26T15:53:56.777765Z",
     "iopub.status.busy": "2025-03-26T15:53:56.777296Z",
     "iopub.status.idle": "2025-03-26T15:53:56.782365Z",
     "shell.execute_reply": "2025-03-26T15:53:56.781508Z"
    },
    "papermill": {
     "duration": 0.028952,
     "end_time": "2025-03-26T15:53:56.784271",
     "exception": false,
     "start_time": "2025-03-26T15:53:56.755319",
     "status": "completed"
    },
    "tags": []
   },
   "outputs": [],
   "source": [
    "today_date = df[\"last_order_date\"].max() + dt.timedelta(days=2)"
   ]
  },
  {
   "cell_type": "code",
   "execution_count": 29,
   "id": "73845e4a",
   "metadata": {
    "execution": {
     "iopub.execute_input": "2025-03-26T15:53:56.828017Z",
     "iopub.status.busy": "2025-03-26T15:53:56.827608Z",
     "iopub.status.idle": "2025-03-26T15:53:56.833913Z",
     "shell.execute_reply": "2025-03-26T15:53:56.833023Z"
    },
    "papermill": {
     "duration": 0.030177,
     "end_time": "2025-03-26T15:53:56.835555",
     "exception": false,
     "start_time": "2025-03-26T15:53:56.805378",
     "status": "completed"
    },
    "tags": []
   },
   "outputs": [],
   "source": [
    "# Create Total Spending and Order Count Features\n",
    "df[\"Total_Value\"] = df[\"customer_value_total_ever_offline\"] + df[\"customer_value_total_ever_online\"]\n",
    "df[\"Total_Order\"] = df[\"order_num_total_ever_online\"] + df[\"order_num_total_ever_offline\"]"
   ]
  },
  {
   "cell_type": "code",
   "execution_count": 30,
   "id": "d83497eb",
   "metadata": {
    "execution": {
     "iopub.execute_input": "2025-03-26T15:53:56.879039Z",
     "iopub.status.busy": "2025-03-26T15:53:56.878700Z",
     "iopub.status.idle": "2025-03-26T15:54:00.683818Z",
     "shell.execute_reply": "2025-03-26T15:54:00.682775Z"
    },
    "papermill": {
     "duration": 3.829119,
     "end_time": "2025-03-26T15:54:00.685765",
     "exception": false,
     "start_time": "2025-03-26T15:53:56.856646",
     "status": "completed"
    },
    "tags": []
   },
   "outputs": [],
   "source": [
    "# Calculate RFM Metrics\n",
    "rfm = df.groupby('master_id').agg({\n",
    "    'last_order_date': lambda x: (today_date - x.max()).days,  # Recency\n",
    "    'Total_Order': 'sum',                                          # Frequency\n",
    "    'Total_Value': 'sum',                                           # Monetary\n",
    "    'first_order_date': lambda x: (today_date - x.max()).days   # Tenure\n",
    "}).reset_index()\n",
    "\n",
    "rfm.columns = ['master_id', 'recency', 'frequency', 'monetary', 'Tenure']"
   ]
  },
  {
   "cell_type": "code",
   "execution_count": 31,
   "id": "955362af",
   "metadata": {
    "execution": {
     "iopub.execute_input": "2025-03-26T15:54:00.730808Z",
     "iopub.status.busy": "2025-03-26T15:54:00.730368Z",
     "iopub.status.idle": "2025-03-26T15:54:00.757369Z",
     "shell.execute_reply": "2025-03-26T15:54:00.756367Z"
    },
    "papermill": {
     "duration": 0.052538,
     "end_time": "2025-03-26T15:54:00.759338",
     "exception": false,
     "start_time": "2025-03-26T15:54:00.706800",
     "status": "completed"
    },
    "tags": []
   },
   "outputs": [],
   "source": [
    "df = pd.merge(df, rfm, on=\"master_id\")"
   ]
  },
  {
   "cell_type": "code",
   "execution_count": 32,
   "id": "d54dfb12",
   "metadata": {
    "execution": {
     "iopub.execute_input": "2025-03-26T15:54:00.802644Z",
     "iopub.status.busy": "2025-03-26T15:54:00.802202Z",
     "iopub.status.idle": "2025-03-26T15:54:00.815055Z",
     "shell.execute_reply": "2025-03-26T15:54:00.813947Z"
    },
    "papermill": {
     "duration": 0.036786,
     "end_time": "2025-03-26T15:54:00.817120",
     "exception": false,
     "start_time": "2025-03-26T15:54:00.780334",
     "status": "completed"
    },
    "tags": []
   },
   "outputs": [],
   "source": [
    "df['New_Avg_Orders_Per_Day'] = df[\"Total_Order\"] / df['Tenure']"
   ]
  },
  {
   "cell_type": "code",
   "execution_count": 33,
   "id": "00edf9af",
   "metadata": {
    "execution": {
     "iopub.execute_input": "2025-03-26T15:54:00.862011Z",
     "iopub.status.busy": "2025-03-26T15:54:00.861610Z",
     "iopub.status.idle": "2025-03-26T15:54:00.866305Z",
     "shell.execute_reply": "2025-03-26T15:54:00.865162Z"
    },
    "papermill": {
     "duration": 0.029935,
     "end_time": "2025-03-26T15:54:00.868110",
     "exception": false,
     "start_time": "2025-03-26T15:54:00.838175",
     "status": "completed"
    },
    "tags": []
   },
   "outputs": [],
   "source": [
    "df.columns = [col.upper() for col in df.columns]"
   ]
  },
  {
   "cell_type": "code",
   "execution_count": 34,
   "id": "bd063e44",
   "metadata": {
    "execution": {
     "iopub.execute_input": "2025-03-26T15:54:00.912038Z",
     "iopub.status.busy": "2025-03-26T15:54:00.911681Z",
     "iopub.status.idle": "2025-03-26T15:54:00.928615Z",
     "shell.execute_reply": "2025-03-26T15:54:00.927457Z"
    },
    "papermill": {
     "duration": 0.040343,
     "end_time": "2025-03-26T15:54:00.930336",
     "exception": false,
     "start_time": "2025-03-26T15:54:00.889993",
     "status": "completed"
    },
    "tags": []
   },
   "outputs": [
    {
     "data": {
      "text/html": [
       "<div>\n",
       "<style scoped>\n",
       "    .dataframe tbody tr th:only-of-type {\n",
       "        vertical-align: middle;\n",
       "    }\n",
       "\n",
       "    .dataframe tbody tr th {\n",
       "        vertical-align: top;\n",
       "    }\n",
       "\n",
       "    .dataframe thead th {\n",
       "        text-align: right;\n",
       "    }\n",
       "</style>\n",
       "<table border=\"1\" class=\"dataframe\">\n",
       "  <thead>\n",
       "    <tr style=\"text-align: right;\">\n",
       "      <th></th>\n",
       "      <th>MASTER_ID</th>\n",
       "      <th>ORDER_CHANNEL</th>\n",
       "      <th>LAST_ORDER_CHANNEL</th>\n",
       "      <th>FIRST_ORDER_DATE</th>\n",
       "      <th>LAST_ORDER_DATE</th>\n",
       "      <th>LAST_ORDER_DATE_ONLINE</th>\n",
       "      <th>LAST_ORDER_DATE_OFFLINE</th>\n",
       "      <th>ORDER_NUM_TOTAL_EVER_ONLINE</th>\n",
       "      <th>ORDER_NUM_TOTAL_EVER_OFFLINE</th>\n",
       "      <th>CUSTOMER_VALUE_TOTAL_EVER_OFFLINE</th>\n",
       "      <th>CUSTOMER_VALUE_TOTAL_EVER_ONLINE</th>\n",
       "      <th>INTERESTED_IN_CATEGORIES_12</th>\n",
       "      <th>TOTAL_VALUE</th>\n",
       "      <th>TOTAL_ORDER</th>\n",
       "      <th>RECENCY</th>\n",
       "      <th>FREQUENCY</th>\n",
       "      <th>MONETARY</th>\n",
       "      <th>TENURE</th>\n",
       "      <th>NEW_AVG_ORDERS_PER_DAY</th>\n",
       "    </tr>\n",
       "  </thead>\n",
       "  <tbody>\n",
       "    <tr>\n",
       "      <th>0</th>\n",
       "      <td>cc294636-19f0-11eb-8d74-000d3a38a36f</td>\n",
       "      <td>Android App</td>\n",
       "      <td>Offline</td>\n",
       "      <td>2020-10-30</td>\n",
       "      <td>2021-02-26</td>\n",
       "      <td>2021-02-21</td>\n",
       "      <td>2021-02-26</td>\n",
       "      <td>4.000</td>\n",
       "      <td>1.000</td>\n",
       "      <td>139.990</td>\n",
       "      <td>799.380</td>\n",
       "      <td>[KADIN]</td>\n",
       "      <td>939.370</td>\n",
       "      <td>5.000</td>\n",
       "      <td>95.000</td>\n",
       "      <td>5.000</td>\n",
       "      <td>939.370</td>\n",
       "      <td>214.000</td>\n",
       "      <td>0.023</td>\n",
       "    </tr>\n",
       "    <tr>\n",
       "      <th>1</th>\n",
       "      <td>f431bd5a-ab7b-11e9-a2fc-000d3a38a36f,Android A...</td>\n",
       "      <td>NaN</td>\n",
       "      <td>NaN</td>\n",
       "      <td>NaT</td>\n",
       "      <td>NaT</td>\n",
       "      <td>NaT</td>\n",
       "      <td>NaT</td>\n",
       "      <td>NaN</td>\n",
       "      <td>NaN</td>\n",
       "      <td>NaN</td>\n",
       "      <td>NaN</td>\n",
       "      <td>NaN</td>\n",
       "      <td>NaN</td>\n",
       "      <td>NaN</td>\n",
       "      <td>NaN</td>\n",
       "      <td>0.000</td>\n",
       "      <td>0.000</td>\n",
       "      <td>NaN</td>\n",
       "      <td>NaN</td>\n",
       "    </tr>\n",
       "    <tr>\n",
       "      <th>2</th>\n",
       "      <td>69b69676-1a40-11ea-941b-000d3a38a36f,Android A...</td>\n",
       "      <td>NaN</td>\n",
       "      <td>NaN</td>\n",
       "      <td>NaT</td>\n",
       "      <td>NaT</td>\n",
       "      <td>NaT</td>\n",
       "      <td>NaT</td>\n",
       "      <td>NaN</td>\n",
       "      <td>NaN</td>\n",
       "      <td>NaN</td>\n",
       "      <td>NaN</td>\n",
       "      <td>NaN</td>\n",
       "      <td>NaN</td>\n",
       "      <td>NaN</td>\n",
       "      <td>NaN</td>\n",
       "      <td>0.000</td>\n",
       "      <td>0.000</td>\n",
       "      <td>NaN</td>\n",
       "      <td>NaN</td>\n",
       "    </tr>\n",
       "    <tr>\n",
       "      <th>3</th>\n",
       "      <td>1854e56c-491f-11eb-806e-000d3a38a36f,Android A...</td>\n",
       "      <td>NaN</td>\n",
       "      <td>NaN</td>\n",
       "      <td>NaT</td>\n",
       "      <td>NaT</td>\n",
       "      <td>NaT</td>\n",
       "      <td>NaT</td>\n",
       "      <td>NaN</td>\n",
       "      <td>NaN</td>\n",
       "      <td>NaN</td>\n",
       "      <td>NaN</td>\n",
       "      <td>NaN</td>\n",
       "      <td>NaN</td>\n",
       "      <td>NaN</td>\n",
       "      <td>NaN</td>\n",
       "      <td>0.000</td>\n",
       "      <td>0.000</td>\n",
       "      <td>NaN</td>\n",
       "      <td>NaN</td>\n",
       "    </tr>\n",
       "    <tr>\n",
       "      <th>4</th>\n",
       "      <td>d6ea1074-f1f5-11e9-9346-000d3a38a36f</td>\n",
       "      <td>Desktop</td>\n",
       "      <td>Desktop</td>\n",
       "      <td>2019-08-03</td>\n",
       "      <td>2021-03-07</td>\n",
       "      <td>2021-03-07</td>\n",
       "      <td>2019-08-03</td>\n",
       "      <td>1.000</td>\n",
       "      <td>1.000</td>\n",
       "      <td>49.990</td>\n",
       "      <td>159.990</td>\n",
       "      <td>[AKTIFSPOR]</td>\n",
       "      <td>209.980</td>\n",
       "      <td>2.000</td>\n",
       "      <td>86.000</td>\n",
       "      <td>2.000</td>\n",
       "      <td>209.980</td>\n",
       "      <td>668.000</td>\n",
       "      <td>0.003</td>\n",
       "    </tr>\n",
       "  </tbody>\n",
       "</table>\n",
       "</div>"
      ],
      "text/plain": [
       "                                           MASTER_ID ORDER_CHANNEL  \\\n",
       "0               cc294636-19f0-11eb-8d74-000d3a38a36f   Android App   \n",
       "1  f431bd5a-ab7b-11e9-a2fc-000d3a38a36f,Android A...           NaN   \n",
       "2  69b69676-1a40-11ea-941b-000d3a38a36f,Android A...           NaN   \n",
       "3  1854e56c-491f-11eb-806e-000d3a38a36f,Android A...           NaN   \n",
       "4               d6ea1074-f1f5-11e9-9346-000d3a38a36f       Desktop   \n",
       "\n",
       "  LAST_ORDER_CHANNEL FIRST_ORDER_DATE LAST_ORDER_DATE LAST_ORDER_DATE_ONLINE  \\\n",
       "0            Offline       2020-10-30      2021-02-26             2021-02-21   \n",
       "1                NaN              NaT             NaT                    NaT   \n",
       "2                NaN              NaT             NaT                    NaT   \n",
       "3                NaN              NaT             NaT                    NaT   \n",
       "4            Desktop       2019-08-03      2021-03-07             2021-03-07   \n",
       "\n",
       "  LAST_ORDER_DATE_OFFLINE  ORDER_NUM_TOTAL_EVER_ONLINE  \\\n",
       "0              2021-02-26                        4.000   \n",
       "1                     NaT                          NaN   \n",
       "2                     NaT                          NaN   \n",
       "3                     NaT                          NaN   \n",
       "4              2019-08-03                        1.000   \n",
       "\n",
       "   ORDER_NUM_TOTAL_EVER_OFFLINE  CUSTOMER_VALUE_TOTAL_EVER_OFFLINE  \\\n",
       "0                         1.000                            139.990   \n",
       "1                           NaN                                NaN   \n",
       "2                           NaN                                NaN   \n",
       "3                           NaN                                NaN   \n",
       "4                         1.000                             49.990   \n",
       "\n",
       "   CUSTOMER_VALUE_TOTAL_EVER_ONLINE INTERESTED_IN_CATEGORIES_12  TOTAL_VALUE  \\\n",
       "0                           799.380                     [KADIN]      939.370   \n",
       "1                               NaN                         NaN          NaN   \n",
       "2                               NaN                         NaN          NaN   \n",
       "3                               NaN                         NaN          NaN   \n",
       "4                           159.990                 [AKTIFSPOR]      209.980   \n",
       "\n",
       "   TOTAL_ORDER  RECENCY  FREQUENCY  MONETARY  TENURE  NEW_AVG_ORDERS_PER_DAY  \n",
       "0        5.000   95.000      5.000   939.370 214.000                   0.023  \n",
       "1          NaN      NaN      0.000     0.000     NaN                     NaN  \n",
       "2          NaN      NaN      0.000     0.000     NaN                     NaN  \n",
       "3          NaN      NaN      0.000     0.000     NaN                     NaN  \n",
       "4        2.000   86.000      2.000   209.980 668.000                   0.003  "
      ]
     },
     "execution_count": 34,
     "metadata": {},
     "output_type": "execute_result"
    }
   ],
   "source": [
    "df.head()"
   ]
  },
  {
   "cell_type": "markdown",
   "id": "5eafe035",
   "metadata": {
    "papermill": {
     "duration": 0.021838,
     "end_time": "2025-03-26T15:54:00.973511",
     "exception": false,
     "start_time": "2025-03-26T15:54:00.951673",
     "status": "completed"
    },
    "tags": []
   },
   "source": [
    "# Standardization Process¶"
   ]
  },
  {
   "cell_type": "code",
   "execution_count": 35,
   "id": "4efcfb0f",
   "metadata": {
    "execution": {
     "iopub.execute_input": "2025-03-26T15:54:01.020138Z",
     "iopub.status.busy": "2025-03-26T15:54:01.019735Z",
     "iopub.status.idle": "2025-03-26T15:54:01.058501Z",
     "shell.execute_reply": "2025-03-26T15:54:01.057458Z"
    },
    "papermill": {
     "duration": 0.064838,
     "end_time": "2025-03-26T15:54:01.060335",
     "exception": false,
     "start_time": "2025-03-26T15:54:00.995497",
     "status": "completed"
    },
    "tags": []
   },
   "outputs": [
    {
     "name": "stdout",
     "output_type": "stream",
     "text": [
      "Observations: 19945\n",
      "Variables: 19\n",
      "cat_cols: 4\n",
      "num_cols: 14\n",
      "cat_but_car: 1\n",
      "num_but_cat: 1\n"
     ]
    }
   ],
   "source": [
    "cat_cols, num_cols, cat_but_car,  num_but_cat = grab_col_names(df)"
   ]
  },
  {
   "cell_type": "code",
   "execution_count": 36,
   "id": "64ae9680",
   "metadata": {
    "execution": {
     "iopub.execute_input": "2025-03-26T15:54:01.104475Z",
     "iopub.status.busy": "2025-03-26T15:54:01.104055Z",
     "iopub.status.idle": "2025-03-26T15:54:01.110093Z",
     "shell.execute_reply": "2025-03-26T15:54:01.108966Z"
    },
    "papermill": {
     "duration": 0.030174,
     "end_time": "2025-03-26T15:54:01.111980",
     "exception": false,
     "start_time": "2025-03-26T15:54:01.081806",
     "status": "completed"
    },
    "tags": []
   },
   "outputs": [
    {
     "data": {
      "text/plain": [
       "['ORDER_CHANNEL',\n",
       " 'LAST_ORDER_CHANNEL',\n",
       " 'INTERESTED_IN_CATEGORIES_12',\n",
       " 'ORDER_NUM_TOTAL_EVER_OFFLINE']"
      ]
     },
     "execution_count": 36,
     "metadata": {},
     "output_type": "execute_result"
    }
   ],
   "source": [
    "cat_cols"
   ]
  },
  {
   "cell_type": "code",
   "execution_count": 37,
   "id": "958badb0",
   "metadata": {
    "execution": {
     "iopub.execute_input": "2025-03-26T15:54:01.157049Z",
     "iopub.status.busy": "2025-03-26T15:54:01.156654Z",
     "iopub.status.idle": "2025-03-26T15:54:01.162937Z",
     "shell.execute_reply": "2025-03-26T15:54:01.161791Z"
    },
    "papermill": {
     "duration": 0.031077,
     "end_time": "2025-03-26T15:54:01.164867",
     "exception": false,
     "start_time": "2025-03-26T15:54:01.133790",
     "status": "completed"
    },
    "tags": []
   },
   "outputs": [
    {
     "data": {
      "text/plain": [
       "['FIRST_ORDER_DATE',\n",
       " 'LAST_ORDER_DATE',\n",
       " 'LAST_ORDER_DATE_ONLINE',\n",
       " 'LAST_ORDER_DATE_OFFLINE',\n",
       " 'ORDER_NUM_TOTAL_EVER_ONLINE',\n",
       " 'CUSTOMER_VALUE_TOTAL_EVER_OFFLINE',\n",
       " 'CUSTOMER_VALUE_TOTAL_EVER_ONLINE',\n",
       " 'TOTAL_VALUE',\n",
       " 'TOTAL_ORDER',\n",
       " 'RECENCY',\n",
       " 'FREQUENCY',\n",
       " 'MONETARY',\n",
       " 'TENURE',\n",
       " 'NEW_AVG_ORDERS_PER_DAY']"
      ]
     },
     "execution_count": 37,
     "metadata": {},
     "output_type": "execute_result"
    }
   ],
   "source": [
    "num_cols"
   ]
  },
  {
   "cell_type": "code",
   "execution_count": 38,
   "id": "1744a7e4",
   "metadata": {
    "execution": {
     "iopub.execute_input": "2025-03-26T15:54:01.210069Z",
     "iopub.status.busy": "2025-03-26T15:54:01.209662Z",
     "iopub.status.idle": "2025-03-26T15:54:01.215425Z",
     "shell.execute_reply": "2025-03-26T15:54:01.214349Z"
    },
    "papermill": {
     "duration": 0.030423,
     "end_time": "2025-03-26T15:54:01.217320",
     "exception": false,
     "start_time": "2025-03-26T15:54:01.186897",
     "status": "completed"
    },
    "tags": []
   },
   "outputs": [
    {
     "data": {
      "text/plain": [
       "['MASTER_ID']"
      ]
     },
     "execution_count": 38,
     "metadata": {},
     "output_type": "execute_result"
    }
   ],
   "source": [
    "cat_but_car"
   ]
  },
  {
   "cell_type": "code",
   "execution_count": 39,
   "id": "9dcf8116",
   "metadata": {
    "execution": {
     "iopub.execute_input": "2025-03-26T15:54:01.263416Z",
     "iopub.status.busy": "2025-03-26T15:54:01.263085Z",
     "iopub.status.idle": "2025-03-26T15:54:01.268736Z",
     "shell.execute_reply": "2025-03-26T15:54:01.267604Z"
    },
    "papermill": {
     "duration": 0.030831,
     "end_time": "2025-03-26T15:54:01.270411",
     "exception": false,
     "start_time": "2025-03-26T15:54:01.239580",
     "status": "completed"
    },
    "tags": []
   },
   "outputs": [
    {
     "data": {
      "text/plain": [
       "['ORDER_NUM_TOTAL_EVER_OFFLINE']"
      ]
     },
     "execution_count": 39,
     "metadata": {},
     "output_type": "execute_result"
    }
   ],
   "source": [
    "num_but_cat"
   ]
  },
  {
   "cell_type": "code",
   "execution_count": 40,
   "id": "52ffed0e",
   "metadata": {
    "execution": {
     "iopub.execute_input": "2025-03-26T15:54:01.315122Z",
     "iopub.status.busy": "2025-03-26T15:54:01.314780Z",
     "iopub.status.idle": "2025-03-26T15:54:01.319311Z",
     "shell.execute_reply": "2025-03-26T15:54:01.318236Z"
    },
    "papermill": {
     "duration": 0.029178,
     "end_time": "2025-03-26T15:54:01.321256",
     "exception": false,
     "start_time": "2025-03-26T15:54:01.292078",
     "status": "completed"
    },
    "tags": []
   },
   "outputs": [],
   "source": [
    "num_cols2 = [col for col in num_cols if col not in ['FIRST_ORDER_DATE',\n",
    " 'LAST_ORDER_DATE',\n",
    " 'LAST_ORDER_DATE_ONLINE',\n",
    " 'LAST_ORDER_DATE_OFFLINE']]"
   ]
  },
  {
   "cell_type": "code",
   "execution_count": 41,
   "id": "d5ce280f",
   "metadata": {
    "execution": {
     "iopub.execute_input": "2025-03-26T15:54:01.368119Z",
     "iopub.status.busy": "2025-03-26T15:54:01.367700Z",
     "iopub.status.idle": "2025-03-26T15:54:01.382979Z",
     "shell.execute_reply": "2025-03-26T15:54:01.381955Z"
    },
    "papermill": {
     "duration": 0.041635,
     "end_time": "2025-03-26T15:54:01.384822",
     "exception": false,
     "start_time": "2025-03-26T15:54:01.343187",
     "status": "completed"
    },
    "tags": []
   },
   "outputs": [
    {
     "data": {
      "text/html": [
       "<div>\n",
       "<style scoped>\n",
       "    .dataframe tbody tr th:only-of-type {\n",
       "        vertical-align: middle;\n",
       "    }\n",
       "\n",
       "    .dataframe tbody tr th {\n",
       "        vertical-align: top;\n",
       "    }\n",
       "\n",
       "    .dataframe thead th {\n",
       "        text-align: right;\n",
       "    }\n",
       "</style>\n",
       "<table border=\"1\" class=\"dataframe\">\n",
       "  <thead>\n",
       "    <tr style=\"text-align: right;\">\n",
       "      <th></th>\n",
       "      <th>ORDER_NUM_TOTAL_EVER_ONLINE</th>\n",
       "      <th>CUSTOMER_VALUE_TOTAL_EVER_OFFLINE</th>\n",
       "      <th>CUSTOMER_VALUE_TOTAL_EVER_ONLINE</th>\n",
       "      <th>TOTAL_VALUE</th>\n",
       "      <th>TOTAL_ORDER</th>\n",
       "      <th>RECENCY</th>\n",
       "      <th>FREQUENCY</th>\n",
       "      <th>MONETARY</th>\n",
       "      <th>TENURE</th>\n",
       "      <th>NEW_AVG_ORDERS_PER_DAY</th>\n",
       "    </tr>\n",
       "  </thead>\n",
       "  <tbody>\n",
       "    <tr>\n",
       "      <th>0</th>\n",
       "      <td>4.000</td>\n",
       "      <td>139.990</td>\n",
       "      <td>799.380</td>\n",
       "      <td>939.370</td>\n",
       "      <td>5.000</td>\n",
       "      <td>95.000</td>\n",
       "      <td>5.000</td>\n",
       "      <td>939.370</td>\n",
       "      <td>214.000</td>\n",
       "      <td>0.023</td>\n",
       "    </tr>\n",
       "    <tr>\n",
       "      <th>1</th>\n",
       "      <td>NaN</td>\n",
       "      <td>NaN</td>\n",
       "      <td>NaN</td>\n",
       "      <td>NaN</td>\n",
       "      <td>NaN</td>\n",
       "      <td>NaN</td>\n",
       "      <td>0.000</td>\n",
       "      <td>0.000</td>\n",
       "      <td>NaN</td>\n",
       "      <td>NaN</td>\n",
       "    </tr>\n",
       "    <tr>\n",
       "      <th>2</th>\n",
       "      <td>NaN</td>\n",
       "      <td>NaN</td>\n",
       "      <td>NaN</td>\n",
       "      <td>NaN</td>\n",
       "      <td>NaN</td>\n",
       "      <td>NaN</td>\n",
       "      <td>0.000</td>\n",
       "      <td>0.000</td>\n",
       "      <td>NaN</td>\n",
       "      <td>NaN</td>\n",
       "    </tr>\n",
       "    <tr>\n",
       "      <th>3</th>\n",
       "      <td>NaN</td>\n",
       "      <td>NaN</td>\n",
       "      <td>NaN</td>\n",
       "      <td>NaN</td>\n",
       "      <td>NaN</td>\n",
       "      <td>NaN</td>\n",
       "      <td>0.000</td>\n",
       "      <td>0.000</td>\n",
       "      <td>NaN</td>\n",
       "      <td>NaN</td>\n",
       "    </tr>\n",
       "    <tr>\n",
       "      <th>4</th>\n",
       "      <td>1.000</td>\n",
       "      <td>49.990</td>\n",
       "      <td>159.990</td>\n",
       "      <td>209.980</td>\n",
       "      <td>2.000</td>\n",
       "      <td>86.000</td>\n",
       "      <td>2.000</td>\n",
       "      <td>209.980</td>\n",
       "      <td>668.000</td>\n",
       "      <td>0.003</td>\n",
       "    </tr>\n",
       "    <tr>\n",
       "      <th>...</th>\n",
       "      <td>...</td>\n",
       "      <td>...</td>\n",
       "      <td>...</td>\n",
       "      <td>...</td>\n",
       "      <td>...</td>\n",
       "      <td>...</td>\n",
       "      <td>...</td>\n",
       "      <td>...</td>\n",
       "      <td>...</td>\n",
       "      <td>...</td>\n",
       "    </tr>\n",
       "    <tr>\n",
       "      <th>19940</th>\n",
       "      <td>NaN</td>\n",
       "      <td>NaN</td>\n",
       "      <td>NaN</td>\n",
       "      <td>NaN</td>\n",
       "      <td>NaN</td>\n",
       "      <td>NaN</td>\n",
       "      <td>0.000</td>\n",
       "      <td>0.000</td>\n",
       "      <td>NaN</td>\n",
       "      <td>NaN</td>\n",
       "    </tr>\n",
       "    <tr>\n",
       "      <th>19941</th>\n",
       "      <td>1.000</td>\n",
       "      <td>150.480</td>\n",
       "      <td>239.990</td>\n",
       "      <td>390.470</td>\n",
       "      <td>2.000</td>\n",
       "      <td>161.000</td>\n",
       "      <td>2.000</td>\n",
       "      <td>390.470</td>\n",
       "      <td>457.000</td>\n",
       "      <td>0.004</td>\n",
       "    </tr>\n",
       "    <tr>\n",
       "      <th>19942</th>\n",
       "      <td>2.000</td>\n",
       "      <td>139.980</td>\n",
       "      <td>492.960</td>\n",
       "      <td>632.940</td>\n",
       "      <td>3.000</td>\n",
       "      <td>8.000</td>\n",
       "      <td>3.000</td>\n",
       "      <td>632.940</td>\n",
       "      <td>629.000</td>\n",
       "      <td>0.005</td>\n",
       "    </tr>\n",
       "    <tr>\n",
       "      <th>19943</th>\n",
       "      <td>NaN</td>\n",
       "      <td>NaN</td>\n",
       "      <td>NaN</td>\n",
       "      <td>NaN</td>\n",
       "      <td>NaN</td>\n",
       "      <td>NaN</td>\n",
       "      <td>0.000</td>\n",
       "      <td>0.000</td>\n",
       "      <td>NaN</td>\n",
       "      <td>NaN</td>\n",
       "    </tr>\n",
       "    <tr>\n",
       "      <th>19944</th>\n",
       "      <td>NaN</td>\n",
       "      <td>NaN</td>\n",
       "      <td>NaN</td>\n",
       "      <td>NaN</td>\n",
       "      <td>NaN</td>\n",
       "      <td>NaN</td>\n",
       "      <td>0.000</td>\n",
       "      <td>0.000</td>\n",
       "      <td>NaN</td>\n",
       "      <td>NaN</td>\n",
       "    </tr>\n",
       "  </tbody>\n",
       "</table>\n",
       "<p>19945 rows × 10 columns</p>\n",
       "</div>"
      ],
      "text/plain": [
       "       ORDER_NUM_TOTAL_EVER_ONLINE  CUSTOMER_VALUE_TOTAL_EVER_OFFLINE  \\\n",
       "0                            4.000                            139.990   \n",
       "1                              NaN                                NaN   \n",
       "2                              NaN                                NaN   \n",
       "3                              NaN                                NaN   \n",
       "4                            1.000                             49.990   \n",
       "...                            ...                                ...   \n",
       "19940                          NaN                                NaN   \n",
       "19941                        1.000                            150.480   \n",
       "19942                        2.000                            139.980   \n",
       "19943                          NaN                                NaN   \n",
       "19944                          NaN                                NaN   \n",
       "\n",
       "       CUSTOMER_VALUE_TOTAL_EVER_ONLINE  TOTAL_VALUE  TOTAL_ORDER  RECENCY  \\\n",
       "0                               799.380      939.370        5.000   95.000   \n",
       "1                                   NaN          NaN          NaN      NaN   \n",
       "2                                   NaN          NaN          NaN      NaN   \n",
       "3                                   NaN          NaN          NaN      NaN   \n",
       "4                               159.990      209.980        2.000   86.000   \n",
       "...                                 ...          ...          ...      ...   \n",
       "19940                               NaN          NaN          NaN      NaN   \n",
       "19941                           239.990      390.470        2.000  161.000   \n",
       "19942                           492.960      632.940        3.000    8.000   \n",
       "19943                               NaN          NaN          NaN      NaN   \n",
       "19944                               NaN          NaN          NaN      NaN   \n",
       "\n",
       "       FREQUENCY  MONETARY  TENURE  NEW_AVG_ORDERS_PER_DAY  \n",
       "0          5.000   939.370 214.000                   0.023  \n",
       "1          0.000     0.000     NaN                     NaN  \n",
       "2          0.000     0.000     NaN                     NaN  \n",
       "3          0.000     0.000     NaN                     NaN  \n",
       "4          2.000   209.980 668.000                   0.003  \n",
       "...          ...       ...     ...                     ...  \n",
       "19940      0.000     0.000     NaN                     NaN  \n",
       "19941      2.000   390.470 457.000                   0.004  \n",
       "19942      3.000   632.940 629.000                   0.005  \n",
       "19943      0.000     0.000     NaN                     NaN  \n",
       "19944      0.000     0.000     NaN                     NaN  \n",
       "\n",
       "[19945 rows x 10 columns]"
      ]
     },
     "execution_count": 41,
     "metadata": {},
     "output_type": "execute_result"
    }
   ],
   "source": [
    "df[num_cols2].astype(float)"
   ]
  },
  {
   "cell_type": "code",
   "execution_count": 42,
   "id": "99c106cf",
   "metadata": {
    "execution": {
     "iopub.execute_input": "2025-03-26T15:54:01.430767Z",
     "iopub.status.busy": "2025-03-26T15:54:01.430345Z",
     "iopub.status.idle": "2025-03-26T15:54:01.434475Z",
     "shell.execute_reply": "2025-03-26T15:54:01.433494Z"
    },
    "papermill": {
     "duration": 0.028909,
     "end_time": "2025-03-26T15:54:01.436172",
     "exception": false,
     "start_time": "2025-03-26T15:54:01.407263",
     "status": "completed"
    },
    "tags": []
   },
   "outputs": [],
   "source": [
    "scaler = StandardScaler()"
   ]
  },
  {
   "cell_type": "code",
   "execution_count": 43,
   "id": "4d8339cd",
   "metadata": {
    "execution": {
     "iopub.execute_input": "2025-03-26T15:54:01.481636Z",
     "iopub.status.busy": "2025-03-26T15:54:01.481232Z",
     "iopub.status.idle": "2025-03-26T15:54:01.512233Z",
     "shell.execute_reply": "2025-03-26T15:54:01.511092Z"
    },
    "papermill": {
     "duration": 0.056171,
     "end_time": "2025-03-26T15:54:01.514200",
     "exception": false,
     "start_time": "2025-03-26T15:54:01.458029",
     "status": "completed"
    },
    "tags": []
   },
   "outputs": [],
   "source": [
    "df_scaled = scaler.fit_transform(df[num_cols2])\n"
   ]
  },
  {
   "cell_type": "markdown",
   "id": "fd999493",
   "metadata": {
    "papermill": {
     "duration": 0.021587,
     "end_time": "2025-03-26T15:54:01.557814",
     "exception": false,
     "start_time": "2025-03-26T15:54:01.536227",
     "status": "completed"
    },
    "tags": []
   },
   "source": [
    "# Encoding Operations"
   ]
  },
  {
   "cell_type": "code",
   "execution_count": 44,
   "id": "2ab95d84",
   "metadata": {
    "execution": {
     "iopub.execute_input": "2025-03-26T15:54:01.603005Z",
     "iopub.status.busy": "2025-03-26T15:54:01.602542Z",
     "iopub.status.idle": "2025-03-26T15:54:01.610687Z",
     "shell.execute_reply": "2025-03-26T15:54:01.609289Z"
    },
    "papermill": {
     "duration": 0.033002,
     "end_time": "2025-03-26T15:54:01.612729",
     "exception": false,
     "start_time": "2025-03-26T15:54:01.579727",
     "status": "completed"
    },
    "tags": []
   },
   "outputs": [],
   "source": [
    "def grab_col_names(dataframe, cat_th=10, car_th=20):\n",
    "    \"\"\"\n",
    "\n",
    "    Veri setindeki kategorik, numerik ve kategorik fakat kardinal değişkenlerin isimlerini verir.\n",
    "    Not: Kategorik değişkenlerin içerisine numerik görünümlü kategorik değişkenler de dahildir.\n",
    "\n",
    "    Parameters\n",
    "    ------\n",
    "        dataframe: dataframe\n",
    "                Değişken isimleri alınmak istenilen dataframe\n",
    "        cat_th: int, optional\n",
    "                numerik fakat kategorik olan değişkenler için sınıf eşik değeri\n",
    "        car_th: int, optinal\n",
    "                kategorik fakat kardinal değişkenler için sınıf eşik değeri\n",
    "\n",
    "    Returns\n",
    "    ------\n",
    "        cat_cols: list\n",
    "                Kategorik değişken listesi\n",
    "        num_cols: list\n",
    "                Numerik değişken listesi\n",
    "        cat_but_car: list\n",
    "                Kategorik görünümlü kardinal değişken listesi\n",
    "\n",
    "    Examples\n",
    "    ------\n",
    "        import seaborn as sns\n",
    "        df = sns.load_dataset(\"iris\")\n",
    "        print(grab_col_names(df))\n",
    "\n",
    "\n",
    "    Notes\n",
    "    ------\n",
    "        cat_cols + num_cols + cat_but_car = toplam değişken sayısı\n",
    "        num_but_cat cat_cols'un içerisinde.\n",
    "        Return olan 3 liste toplamı toplam değişken sayısına eşittir: cat_cols + num_cols + cat_but_car = değişken sayısı\n",
    "\n",
    "    \"\"\"\n",
    "\n",
    "    # cat_cols, cat_but_car\n",
    "    cat_cols = [col for col in dataframe.columns if dataframe[col].dtypes == \"O\"]\n",
    "    num_but_cat = [col for col in dataframe.columns if dataframe[col].nunique() < cat_th and\n",
    "                   dataframe[col].dtypes != \"O\"]\n",
    "    cat_but_car = [col for col in dataframe.columns if dataframe[col].nunique() > car_th and\n",
    "                   dataframe[col].dtypes == \"O\"]\n",
    "    cat_cols = cat_cols + num_but_cat\n",
    "    cat_cols = [col for col in cat_cols if col not in cat_but_car]\n",
    "\n",
    "    # num_cols\n",
    "    num_cols = [col for col in dataframe.columns if dataframe[col].dtypes != \"O\"]\n",
    "    num_cols = [col for col in num_cols if col not in num_but_cat]\n",
    "\n",
    "    print(f\"Observations: {dataframe.shape[0]}\")\n",
    "    print(f\"Variables: {dataframe.shape[1]}\")\n",
    "    print(f'cat_cols: {len(cat_cols)}')\n",
    "    print(f'num_cols: {len(num_cols)}')\n",
    "    print(f'cat_but_car: {len(cat_but_car)}')\n",
    "    print(f'num_but_cat: {len(num_but_cat)}')\n",
    "    return cat_cols, num_cols, cat_but_car"
   ]
  },
  {
   "cell_type": "code",
   "execution_count": 45,
   "id": "395cbcb5",
   "metadata": {
    "execution": {
     "iopub.execute_input": "2025-03-26T15:54:01.658493Z",
     "iopub.status.busy": "2025-03-26T15:54:01.658109Z",
     "iopub.status.idle": "2025-03-26T15:54:01.693655Z",
     "shell.execute_reply": "2025-03-26T15:54:01.692466Z"
    },
    "papermill": {
     "duration": 0.060376,
     "end_time": "2025-03-26T15:54:01.695415",
     "exception": false,
     "start_time": "2025-03-26T15:54:01.635039",
     "status": "completed"
    },
    "tags": []
   },
   "outputs": [
    {
     "name": "stdout",
     "output_type": "stream",
     "text": [
      "Observations: 19945\n",
      "Variables: 12\n",
      "cat_cols: 3\n",
      "num_cols: 4\n",
      "cat_but_car: 5\n",
      "num_but_cat: 0\n"
     ]
    }
   ],
   "source": [
    "cat_cols, num_cols, cat_but_car = grab_col_names(df_)"
   ]
  },
  {
   "cell_type": "code",
   "execution_count": 46,
   "id": "566c1369",
   "metadata": {
    "execution": {
     "iopub.execute_input": "2025-03-26T15:54:01.741107Z",
     "iopub.status.busy": "2025-03-26T15:54:01.740719Z",
     "iopub.status.idle": "2025-03-26T15:54:01.746550Z",
     "shell.execute_reply": "2025-03-26T15:54:01.745546Z"
    },
    "papermill": {
     "duration": 0.030356,
     "end_time": "2025-03-26T15:54:01.748109",
     "exception": false,
     "start_time": "2025-03-26T15:54:01.717753",
     "status": "completed"
    },
    "tags": []
   },
   "outputs": [
    {
     "data": {
      "text/plain": [
       "['order_num_total_ever_online',\n",
       " 'order_num_total_ever_offline',\n",
       " 'customer_value_total_ever_offline',\n",
       " 'customer_value_total_ever_online']"
      ]
     },
     "execution_count": 46,
     "metadata": {},
     "output_type": "execute_result"
    }
   ],
   "source": [
    "num_cols"
   ]
  },
  {
   "cell_type": "code",
   "execution_count": 47,
   "id": "6bfedf5d",
   "metadata": {
    "execution": {
     "iopub.execute_input": "2025-03-26T15:54:01.795007Z",
     "iopub.status.busy": "2025-03-26T15:54:01.794607Z",
     "iopub.status.idle": "2025-03-26T15:54:01.800456Z",
     "shell.execute_reply": "2025-03-26T15:54:01.799424Z"
    },
    "papermill": {
     "duration": 0.031316,
     "end_time": "2025-03-26T15:54:01.802156",
     "exception": false,
     "start_time": "2025-03-26T15:54:01.770840",
     "status": "completed"
    },
    "tags": []
   },
   "outputs": [
    {
     "data": {
      "text/plain": [
       "['order_channel', 'last_order_channel', 'interested_in_categories_12']"
      ]
     },
     "execution_count": 47,
     "metadata": {},
     "output_type": "execute_result"
    }
   ],
   "source": [
    "cat_cols"
   ]
  }
 ],
 "metadata": {
  "kaggle": {
   "accelerator": "none",
   "dataSources": [
    {
     "datasetId": 6973569,
     "sourceId": 11173699,
     "sourceType": "datasetVersion"
    }
   ],
   "dockerImageVersionId": 30918,
   "isGpuEnabled": false,
   "isInternetEnabled": true,
   "language": "python",
   "sourceType": "notebook"
  },
  "kernelspec": {
   "display_name": "Python 3",
   "language": "python",
   "name": "python3"
  },
  "language_info": {
   "codemirror_mode": {
    "name": "ipython",
    "version": 3
   },
   "file_extension": ".py",
   "mimetype": "text/x-python",
   "name": "python",
   "nbconvert_exporter": "python",
   "pygments_lexer": "ipython3",
   "version": "3.10.12"
  },
  "papermill": {
   "default_parameters": {},
   "duration": 18.011094,
   "end_time": "2025-03-26T15:54:02.645675",
   "environment_variables": {},
   "exception": null,
   "input_path": "__notebook__.ipynb",
   "output_path": "__notebook__.ipynb",
   "parameters": {},
   "start_time": "2025-03-26T15:53:44.634581",
   "version": "2.6.0"
  }
 },
 "nbformat": 4,
 "nbformat_minor": 5
}
